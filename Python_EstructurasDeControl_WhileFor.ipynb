{
 "cells": [
  {
   "cell_type": "markdown",
   "id": "d103769f",
   "metadata": {},
   "source": [
    "## ESTRUCTURAS DE CONTROL: BUCLES WHILE Y FOR\n",
    "\n",
    "WHILE → “Hasta que”, De 1 a pregunta\n",
    "\n",
    "FOR → De 1 a N"
   ]
  },
  {
   "cell_type": "code",
   "execution_count": null,
   "id": "1f73af89",
   "metadata": {},
   "outputs": [],
   "source": [
    "for x in range(5):\n",
    "    print(x)"
   ]
  },
  {
   "cell_type": "code",
   "execution_count": null,
   "id": "cc74a317",
   "metadata": {},
   "outputs": [],
   "source": [
    "palabra = 'abcd'\n",
    "for letra in palabra:\n",
    "    print(letra)"
   ]
  },
  {
   "cell_type": "code",
   "execution_count": null,
   "id": "0338204e",
   "metadata": {},
   "outputs": [],
   "source": [
    "count = 0\n",
    "while count < 5:\n",
    "    print(count)\n",
    "    count += 1  #count = count + 1"
   ]
  },
  {
   "cell_type": "code",
   "execution_count": null,
   "id": "6298d1df",
   "metadata": {},
   "outputs": [],
   "source": [
    "count = 0\n",
    "while True:\n",
    "    print(count)\n",
    "    count += 1\n",
    "    if count >= 5:\n",
    "        break       #salir del bucle"
   ]
  },
  {
   "cell_type": "code",
   "execution_count": null,
   "id": "15bd2322",
   "metadata": {},
   "outputs": [],
   "source": [
    "for x in range(10):\n",
    "    if x % 2 == 0:   # Comprueba si x es par\n",
    "        continue     #ir al siguiente paso\n",
    "    print(x)"
   ]
  },
  {
   "cell_type": "markdown",
   "id": "051a4c24",
   "metadata": {},
   "source": [
    "#### Crear un bucle en el que al escribir 'Sal' se acabe"
   ]
  },
  {
   "cell_type": "code",
   "execution_count": null,
   "id": "868049b7",
   "metadata": {},
   "outputs": [],
   "source": [
    "a =  input('Dame el valor de')\n",
    "while (a != 'Sal'):\n",
    "    print('Hago cosas')\n",
    "    a=input('Dame el valor de a...')\n",
    "print('Fin')"
   ]
  },
  {
   "cell_type": "markdown",
   "id": "2c1bc820",
   "metadata": {},
   "source": [
    "#### Pedir un numero por teclado hasta introducir un numero entre 1000 y 1500"
   ]
  },
  {
   "cell_type": "code",
   "execution_count": null,
   "id": "36882fdd",
   "metadata": {},
   "outputs": [],
   "source": [
    "numero = int(input('Introduce un número: '))\n",
    "while not(numero > 1000 and numero < 1500):\n",
    "    numero = int(input('Vuelve a intentarlo: '))\n",
    "else:\n",
    "    print('Ya está entre 1000 y 1500')"
   ]
  },
  {
   "cell_type": "markdown",
   "id": "b51c2222",
   "metadata": {},
   "source": [
    "#### Pide un número entre 10 y 100, muestra los números que contiene hacia atrás, hasta llegar a 0."
   ]
  },
  {
   "cell_type": "code",
   "execution_count": null,
   "id": "d06a2140",
   "metadata": {},
   "outputs": [],
   "source": [
    "num = int(input('Introduce un número entre 10 y 100: '))\n",
    "if num > 10 and num < 100:\n",
    "    for i in range(1,num+1):\n",
    "         print(num-i)\n",
    "else:\n",
    "    print('Introduce un valor entre 10 y 100')"
   ]
  },
  {
   "cell_type": "markdown",
   "id": "89914384",
   "metadata": {},
   "source": [
    "#### Pedir un número por teclado y que muestre su tabla de multiplicar"
   ]
  },
  {
   "cell_type": "code",
   "execution_count": 2,
   "id": "dd4e374f",
   "metadata": {
    "scrolled": true
   },
   "outputs": [
    {
     "name": "stdout",
     "output_type": "stream",
     "text": [
      "Introduce un número: 7\n",
      "7\n",
      "14\n",
      "21\n",
      "28\n",
      "35\n",
      "42\n",
      "49\n",
      "56\n",
      "63\n",
      "70\n"
     ]
    }
   ],
   "source": [
    "# Solución 2 con while\n",
    "\n",
    "numero = int(input('Introduce un número: '))\n",
    "contador = 1\n",
    "salir = False\n",
    "while contador < 11:\n",
    "    print(contador * numero)\n",
    "    contador = contador +1"
   ]
  },
  {
   "cell_type": "markdown",
   "id": "b897076f",
   "metadata": {},
   "source": [
    "#### Provocar un bucle infinito que muestre la palabra “ERROR”\n",
    "##### Pararlo lo antes posible porque el archivo irá incrementando de tamaño"
   ]
  },
  {
   "cell_type": "code",
   "execution_count": null,
   "id": "13e5f1c0",
   "metadata": {},
   "outputs": [],
   "source": [
    "i = 1\n",
    "while i:\n",
    "    print('ERROR')\n",
    "    i = i + 1"
   ]
  },
  {
   "cell_type": "markdown",
   "id": "f4966a24",
   "metadata": {},
   "source": [
    "#### Contar el número de vocales en el texto"
   ]
  },
  {
   "cell_type": "code",
   "execution_count": null,
   "id": "517ea635",
   "metadata": {},
   "outputs": [],
   "source": [
    "texto = 'holaestoesunapruebaenpython'\n",
    "def contar_vocales(texto):\n",
    "    contador = 0\n",
    "\tfor letra in texto:\n",
    "\t\tif letra.lower() in \"aeiou\":\n",
    "\t\t\tcontador += 1\n",
    "\treturn contador\n",
    "\n",
    "cantidad = contar_vocales(texto)\n",
    "print(cantidad)\n",
    "print(f\"En la cadena '{texto}' hay {cantidad} vocales\")"
   ]
  },
  {
   "cell_type": "code",
   "execution_count": null,
   "id": "e413806b",
   "metadata": {},
   "outputs": [],
   "source": [
    "# OTRA OPCIÓN:\n",
    "\n",
    "texto = 'holaestoesunapruebaenpython'\n",
    "vocales = 'aeiou'\n",
    "contador = 0\n",
    "# 1. Recorrer letra por letra todo el string\n",
    "for letra in texto:\n",
    "# 2. Comprobar si la letra era vocal\n",
    "  if letra in vocales:\n",
    "    contador = contador + 1\n",
    "print(contador)"
   ]
  },
  {
   "cell_type": "markdown",
   "id": "46a20528",
   "metadata": {},
   "source": [
    "#### Recorrer una lista"
   ]
  },
  {
   "cell_type": "code",
   "execution_count": null,
   "id": "ed3ce1a9",
   "metadata": {},
   "outputs": [],
   "source": [
    "PlayListRatings = [10, 9.5, 10, 8, 7.5, 5, 10, 10]\n",
    "indice = 0\n",
    "while indice < len(PlayListRatings): # recorrer la lista entera\n",
    "  if PlayListRatings[indice] < 6:    # parar cuando el valor/puntuación sea menor a 6\n",
    "    break\n",
    "  print(PlayListRatings[indice])\n",
    "  indice = indice + 1"
   ]
  },
  {
   "cell_type": "markdown",
   "id": "faa0a6e9",
   "metadata": {},
   "source": [
    "#### Calculadora que se enciende y HASTA QUE no tecleamos ‘sal’ no se apaga.\n",
    "Funciona de la siguiente manera:\n",
    "Recogemos los datos A y B\n",
    "Si operación es 1→ calcula raíz cuadrada de la suma de A y B\n",
    "Si operación es 2 → calcula A/B.\n",
    "Si operación es 3 –> calcula (A*B)/2.5"
   ]
  },
  {
   "cell_type": "code",
   "execution_count": null,
   "id": "6652b71c",
   "metadata": {},
   "outputs": [],
   "source": [
    "a = 2\n",
    "b = 4\n",
    "op = input('Introduce el tipo de operación o SAL') #el input solo saca str, por lo que luego no lo podemos utilizar como numero en la condicion, no lo reconoce, para eso usamos int()\n",
    "#le he quitado el int o integer al op(input) porque ahora op va a ser o un número o string por el 'SAL', lo usaremos como string\n",
    "rdo = 0\n",
    "\n",
    "while(op != 'SAL'):\n",
    "    \n",
    "    if(op == '1'): #op es string, por eso el 1 entre comillas\n",
    "        a = float(input('Dame el valor de a...'))\n",
    "        b = float(input('Dame el valor de b...'))\n",
    "        rdo = print('El resultado es',(a + b)**0.5)\n",
    "    elif (op == '2'):\n",
    "        a = float(input('Dame el valor de a...'))\n",
    "        b = float(input('Dame el valor de b...'))\n",
    "        rdo = print('El resultado es',a/b)\n",
    "    elif(op == '3'):\n",
    "        a = float(input('Dame el valor de a...'))\n",
    "        b = float(input('Dame el valor de b...'))\n",
    "        rdo = print ('El resultado es',a*b/2.5)\n",
    "    else:\n",
    "        rdo = print('No existe ese tipo de operación')\n",
    "    op = input('Introduce el tipo de operación o SAL') \n",
    "print('Fin')"
   ]
  },
  {
   "cell_type": "markdown",
   "id": "5ade5b03",
   "metadata": {},
   "source": [
    "#### JUEGO POR TURNOS"
   ]
  },
  {
   "cell_type": "code",
   "execution_count": null,
   "id": "eae4bbf3",
   "metadata": {},
   "outputs": [],
   "source": [
    "turno = input('¿De quién es el turno? Responda 1 si es de A y -1 si es de B') #este campo 1 y -1 será un string\n",
    "rdo = 0 \n",
    "while (rdo >= 0):\n",
    "    if (turno == '1'):#comillas porque es un string\n",
    "        atA = int(input('Introduce el ataque de A')) #convertimos a int para poder operar con ellos el rdo\n",
    "        defB = int(input ('Introduce la defensa de B')) #convertimos a int para poder operar con ellos el rdo\n",
    "        rdo = defB - atA\n",
    "        print(rdo)\n",
    "        if(rdo <0):\n",
    "            print('B muere. Fin del juego')\n",
    "        else:\n",
    "            print('Sigue el combate')\n",
    "    else:\n",
    "        atB =  int(input('Introduce el ataque de B'))\n",
    "        defA = int(input('Introduce la defensa de A'))\n",
    "        rdo = defA - atB\n",
    "        print(rdo)\n",
    "        if(rdo < 0):\n",
    "            print('A muere. Fin del juego')\n",
    "        else:\n",
    "            print('Sigue el combate')\n",
    "    turno *= -1 #así va cambiando el signo del turno y va cambiando el turno de forma consecutiva"
   ]
  },
  {
   "cell_type": "markdown",
   "id": "152c2dfb",
   "metadata": {},
   "source": [
    "#### Queremos hacer un juego para 2 jugadores: el primero introduce un número y el segundo debe adivinarlo. El número a adivinar debe estar entre 1 y 1000. Se permite solo 10 intentos para intentar adivinarlo y si no lo acierta el programa le informara sobre si el numero buscado es menor o mayor."
   ]
  },
  {
   "cell_type": "code",
   "execution_count": null,
   "id": "3ee13bbc",
   "metadata": {},
   "outputs": [],
   "source": [
    "# Primer jugador introduce número:\n",
    "numero1 = int(input('Jugador 1, Introduce un número entre 1 y 1000: '))\n",
    "if numero1 < 1 or numero1 > 1000:                                    # Valor válido entre 1 y 1000\n",
    "    print('No válido. Introduce un valor entre 1 y 1000')\n",
    "else: \n",
    "    print('')\n",
    "\n",
    "    # Segundo jugador introduce número:\n",
    "    numero2 = int(input('Jugador 2, Intenta adivinar el número introducido por el Jugador1: '))\n",
    "    if numero2 < 1 or numero2 > 1000:                                   # Valor entre 1 y 1000\n",
    "        print('El valor buscado está entre 1 y 1000')\n",
    "    else: \n",
    "        print('')\n",
    "\n",
    "    # Bucle 9 veces más hasta que introduzca el correcto\n",
    "    for i in range(9):\n",
    "        if numero1 != numero2: \n",
    "            if numero1 < numero2:\n",
    "                print('El número buscado es menor')\n",
    "                numero2 = int(input('Jugador 2, prueba de nuevo: ')) \n",
    "                if numero2 < 1 or numero2 > 1000:\n",
    "                    print('El valor buscado está entre 1 y 1000')        # Valor entre 1 y 1000\n",
    "                    \n",
    "                else: \n",
    "                    print('')\n",
    "            else:\n",
    "                print('El número buscado es mayor')\n",
    "                numero2 = int(input('Jugador 2, prueba de nuevo: ')) \n",
    "                if numero2 < 1 or numero2 > 1000:\n",
    "                    print('El valor buscado está entre 1 y 1000')       # Valor entre 1 y 1000\n",
    "                else: \n",
    "                    print('')\n",
    "        else:\n",
    "            print('Has acertado')                              # Acaba el bucle por respuesta correcta\n",
    "            break\n",
    "    else:\n",
    "        print('Se te han acabado los intentos')                    # Acaba el bucle por respuesta correcta o por 10 intentos fallidos"
   ]
  }
 ],
 "metadata": {
  "kernelspec": {
   "display_name": "Python 3 (ipykernel)",
   "language": "python",
   "name": "python3"
  },
  "language_info": {
   "codemirror_mode": {
    "name": "ipython",
    "version": 3
   },
   "file_extension": ".py",
   "mimetype": "text/x-python",
   "name": "python",
   "nbconvert_exporter": "python",
   "pygments_lexer": "ipython3",
   "version": "3.9.13"
  }
 },
 "nbformat": 4,
 "nbformat_minor": 5
}
