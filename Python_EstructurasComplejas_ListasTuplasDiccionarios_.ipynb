{
 "cells": [
  {
   "cell_type": "markdown",
   "id": "a73011c8",
   "metadata": {},
   "source": [
    "#### Coger elementos de una lista"
   ]
  },
  {
   "cell_type": "code",
   "execution_count": null,
   "id": "cd872026",
   "metadata": {},
   "outputs": [],
   "source": [
    "lista = [1, 3.2, 'Hola', ['Que'], True, 'Tal', ['AA', '?']]\n",
    "#Posición:0,  1,   2,       3,      4,     5,       6\n",
    "\n",
    "print(lista[2])   #Hola\n",
    "print(lista[3][0]) #Que\n",
    "print(lista[5])  #Tal"
   ]
  },
  {
   "cell_type": "code",
   "execution_count": 2,
   "id": "ae8a5238",
   "metadata": {},
   "outputs": [
    {
     "name": "stdout",
     "output_type": "stream",
     "text": [
      "¿\n",
      "Dónde\n",
      "Está\n",
      "Python?\n"
     ]
    }
   ],
   "source": [
    "lista = [1, 2, 3, 4, 5, \n",
    "\n",
    "[1, 3, \"aa\", \"¿\", 1, [3,4,5,67, 2.0, [True, False, [1, 'Dónde']]], [1, \"Está\", [False]], \"Python?\"]\n",
    "\n",
    "]\n",
    "\n",
    "#Escribir \"¿Dónde está Python?\"\n",
    "\n",
    "# print(len(lista)) #para saber el número de 'vagones' que tiene la lista \n",
    "\n",
    "print(lista[5][3])\n",
    "print(lista[5][5][5][2][1])\n",
    "print(lista[5][6][1])\n",
    "print(lista[5][7])\n"
   ]
  },
  {
   "cell_type": "markdown",
   "id": "4830824a",
   "metadata": {},
   "source": [
    "#### Pedir un número de palabras a insertar (mínimo 7), introducir esas palabras creando con ellas una lista que después mostrarla."
   ]
  },
  {
   "cell_type": "code",
   "execution_count": 20,
   "id": "ed968861",
   "metadata": {},
   "outputs": [
    {
     "name": "stdout",
     "output_type": "stream",
     "text": [
      "Introduce el número de palabras que quieres insertar: 6\n",
      "Debes introducir un valor mayor o igual a 7. Pruebe de nuevo\n"
     ]
    }
   ],
   "source": [
    "num_palabras = int(input(\"Introduce el número de palabras que quieres insertar: \"))\n",
    "\n",
    "lista=[]                                                         # creamos la lista vacía\n",
    " \n",
    "if num_palabras >= 7:                                            #creamos el bucle para un num_palabras >=7:\n",
    "    contador = 1\n",
    "    while contador <= num_palabras:\n",
    "        valor = input('Introduce las palabras en la lista: ')     #Introducir palabras\n",
    "        lista.append(valor)                                       #Añadir a la lista\n",
    "        contador = contador + 1\n",
    "    print(lista)                                                  #Imprimir la lista\n",
    "\n",
    "else: \n",
    "    print('Debes introducir un valor mayor o igual a 7. Pruebe de nuevo')"
   ]
  },
  {
   "cell_type": "markdown",
   "id": "55ffef3d",
   "metadata": {},
   "source": [
    "#### Pedir un número entre 1 y 7, más una palabra. El número introducido indica la posición en la lista anterior cuyo valor será sustituido por la palabra introducida."
   ]
  },
  {
   "cell_type": "code",
   "execution_count": 15,
   "id": "beeef4cc",
   "metadata": {
    "scrolled": true
   },
   "outputs": [
    {
     "name": "stdout",
     "output_type": "stream",
     "text": [
      "Introduce un número entre 1 y 7: 5\n",
      "Introduce una palabra: cambio\n",
      "['1', '2', '3', '4', '5', 'cambio', '7']\n"
     ]
    }
   ],
   "source": [
    "posicion = int(input('Introduce un número entre 1 y 7: '))\n",
    "if posicion >= 1 and posicion <= 7:\n",
    "    palabra = input('Introduce una palabra: ')\n",
    "    lista[posicion] = palabra\n",
    "    print(lista)\n",
    "else:\n",
    "    posicion = int(input('Introduce un número entre 1 y 7 por favor: '))"
   ]
  },
  {
   "cell_type": "markdown",
   "id": "84df18ac",
   "metadata": {},
   "source": [
    "#### Pedir la posición de un elemento en la lista y una vez introducida eliminar dicha palabra."
   ]
  },
  {
   "cell_type": "code",
   "execution_count": 16,
   "id": "42270996",
   "metadata": {},
   "outputs": [
    {
     "name": "stdout",
     "output_type": "stream",
     "text": [
      "Introduce la posición del elemento de la lista a eliminar: 5\n",
      "['1', '2', '3', '4', '5', '7']\n"
     ]
    }
   ],
   "source": [
    "posicion = int(input('Introduce la posición del elemento de la lista a eliminar: '))\n",
    "del lista[posicion] \n",
    "print(lista)"
   ]
  },
  {
   "cell_type": "markdown",
   "id": "a38a7eea",
   "metadata": {},
   "source": [
    "#### Introducir una lista de 10 palabras y mostrarlas de la última a la primera."
   ]
  },
  {
   "cell_type": "code",
   "execution_count": null,
   "id": "84da047b",
   "metadata": {},
   "outputs": [],
   "source": [
    "lista2 = []                                     #creamos la lista vacía\n",
    "for i in range(10):\n",
    "    lista2.append(input('Introduce una palabra en la lista: '))   #pedimos las 10 palabras por teclado\n",
    "for palabras in reversed(lista2):                                 #imprimimos la lista al revés\n",
    "    print(palabras)"
   ]
  },
  {
   "cell_type": "markdown",
   "id": "a21b5de0",
   "metadata": {},
   "source": [
    "#### Introducir 10 números y guardarlos en una lista, mostrarlos mediante for."
   ]
  },
  {
   "cell_type": "code",
   "execution_count": null,
   "id": "6c7b213d",
   "metadata": {},
   "outputs": [],
   "source": [
    "lista3 = []                                                       #creamos la lista vacía\n",
    "for i in range(10):\n",
    "    lista3.append(int(input('Introduce un número en la lista: ')))   #pedimos las 10 palabras por teclado\n",
    "for item in lista3:\n",
    "    print(item)"
   ]
  },
  {
   "cell_type": "markdown",
   "id": "6100a611",
   "metadata": {},
   "source": [
    "#### Ordenar la lista anterior y mostrarla"
   ]
  },
  {
   "cell_type": "code",
   "execution_count": null,
   "id": "7407fb6d",
   "metadata": {},
   "outputs": [],
   "source": [
    "lista3.sort()\n",
    "lista3"
   ]
  },
  {
   "cell_type": "markdown",
   "id": "cfb254a4",
   "metadata": {},
   "source": [
    "#### Crear un diccionario de 10 palabras ingles-español y realizar 3 consultas a este diccionario"
   ]
  },
  {
   "cell_type": "code",
   "execution_count": 4,
   "id": "9f678a63",
   "metadata": {
    "scrolled": true
   },
   "outputs": [
    {
     "name": "stdout",
     "output_type": "stream",
     "text": [
      "Introduce la palabra en inglés a traducir: Number\n",
      "Número\n"
     ]
    },
    {
     "ename": "KeyboardInterrupt",
     "evalue": "Interrupted by user",
     "output_type": "error",
     "traceback": [
      "\u001b[1;31m---------------------------------------------------------------------------\u001b[0m",
      "\u001b[1;31mKeyboardInterrupt\u001b[0m                         Traceback (most recent call last)",
      "\u001b[1;32m~\\AppData\\Local\\Temp\\ipykernel_8816\\1574432550.py\u001b[0m in \u001b[0;36m<module>\u001b[1;34m\u001b[0m\n\u001b[0;32m      2\u001b[0m \u001b[1;33m\u001b[0m\u001b[0m\n\u001b[0;32m      3\u001b[0m \u001b[1;32mfor\u001b[0m \u001b[0mi\u001b[0m \u001b[1;32min\u001b[0m \u001b[0mrange\u001b[0m\u001b[1;33m(\u001b[0m\u001b[1;36m3\u001b[0m\u001b[1;33m)\u001b[0m\u001b[1;33m:\u001b[0m\u001b[1;33m\u001b[0m\u001b[1;33m\u001b[0m\u001b[0m\n\u001b[1;32m----> 4\u001b[1;33m     \u001b[0mconsulta\u001b[0m \u001b[1;33m=\u001b[0m \u001b[0minput\u001b[0m\u001b[1;33m(\u001b[0m\u001b[1;34m'Introduce la palabra en inglés a traducir: '\u001b[0m\u001b[1;33m)\u001b[0m\u001b[1;33m\u001b[0m\u001b[1;33m\u001b[0m\u001b[0m\n\u001b[0m\u001b[0;32m      5\u001b[0m     \u001b[0mprint\u001b[0m\u001b[1;33m(\u001b[0m\u001b[0mdiccionario\u001b[0m\u001b[1;33m[\u001b[0m\u001b[0mconsulta\u001b[0m\u001b[1;33m]\u001b[0m\u001b[1;33m)\u001b[0m\u001b[1;33m\u001b[0m\u001b[1;33m\u001b[0m\u001b[0m\n\u001b[0;32m      6\u001b[0m \u001b[1;33m\u001b[0m\u001b[0m\n",
      "\u001b[1;32m~\\anaconda3\\lib\\site-packages\\ipykernel\\kernelbase.py\u001b[0m in \u001b[0;36mraw_input\u001b[1;34m(self, prompt)\u001b[0m\n\u001b[0;32m   1175\u001b[0m                 \u001b[1;34m\"raw_input was called, but this frontend does not support input requests.\"\u001b[0m\u001b[1;33m\u001b[0m\u001b[1;33m\u001b[0m\u001b[0m\n\u001b[0;32m   1176\u001b[0m             )\n\u001b[1;32m-> 1177\u001b[1;33m         return self._input_request(\n\u001b[0m\u001b[0;32m   1178\u001b[0m             \u001b[0mstr\u001b[0m\u001b[1;33m(\u001b[0m\u001b[0mprompt\u001b[0m\u001b[1;33m)\u001b[0m\u001b[1;33m,\u001b[0m\u001b[1;33m\u001b[0m\u001b[1;33m\u001b[0m\u001b[0m\n\u001b[0;32m   1179\u001b[0m             \u001b[0mself\u001b[0m\u001b[1;33m.\u001b[0m\u001b[0m_parent_ident\u001b[0m\u001b[1;33m[\u001b[0m\u001b[1;34m\"shell\"\u001b[0m\u001b[1;33m]\u001b[0m\u001b[1;33m,\u001b[0m\u001b[1;33m\u001b[0m\u001b[1;33m\u001b[0m\u001b[0m\n",
      "\u001b[1;32m~\\anaconda3\\lib\\site-packages\\ipykernel\\kernelbase.py\u001b[0m in \u001b[0;36m_input_request\u001b[1;34m(self, prompt, ident, parent, password)\u001b[0m\n\u001b[0;32m   1217\u001b[0m             \u001b[1;32mexcept\u001b[0m \u001b[0mKeyboardInterrupt\u001b[0m\u001b[1;33m:\u001b[0m\u001b[1;33m\u001b[0m\u001b[1;33m\u001b[0m\u001b[0m\n\u001b[0;32m   1218\u001b[0m                 \u001b[1;31m# re-raise KeyboardInterrupt, to truncate traceback\u001b[0m\u001b[1;33m\u001b[0m\u001b[1;33m\u001b[0m\u001b[0m\n\u001b[1;32m-> 1219\u001b[1;33m                 \u001b[1;32mraise\u001b[0m \u001b[0mKeyboardInterrupt\u001b[0m\u001b[1;33m(\u001b[0m\u001b[1;34m\"Interrupted by user\"\u001b[0m\u001b[1;33m)\u001b[0m \u001b[1;32mfrom\u001b[0m \u001b[1;32mNone\u001b[0m\u001b[1;33m\u001b[0m\u001b[1;33m\u001b[0m\u001b[0m\n\u001b[0m\u001b[0;32m   1220\u001b[0m             \u001b[1;32mexcept\u001b[0m \u001b[0mException\u001b[0m\u001b[1;33m:\u001b[0m\u001b[1;33m\u001b[0m\u001b[1;33m\u001b[0m\u001b[0m\n\u001b[0;32m   1221\u001b[0m                 \u001b[0mself\u001b[0m\u001b[1;33m.\u001b[0m\u001b[0mlog\u001b[0m\u001b[1;33m.\u001b[0m\u001b[0mwarning\u001b[0m\u001b[1;33m(\u001b[0m\u001b[1;34m\"Invalid Message:\"\u001b[0m\u001b[1;33m,\u001b[0m \u001b[0mexc_info\u001b[0m\u001b[1;33m=\u001b[0m\u001b[1;32mTrue\u001b[0m\u001b[1;33m)\u001b[0m\u001b[1;33m\u001b[0m\u001b[1;33m\u001b[0m\u001b[0m\n",
      "\u001b[1;31mKeyboardInterrupt\u001b[0m: Interrupted by user"
     ]
    }
   ],
   "source": [
    "diccionario = {'Number':'Número', 'Name':'Nombre', 'Most':'La mayoría', 'Day':'Día', 'Give':'Dar', 'Because':'Porque', 'Want':'Querer', 'New':'Nuevo', 'Way':'Camino', 'Well':'Bien'}\n",
    "\n",
    "for i in range(3):\n",
    "    consulta = input('Introduce la palabra en inglés a traducir: ')\n",
    "    print(diccionario[consulta])\n",
    "    "
   ]
  },
  {
   "cell_type": "markdown",
   "id": "15cc5e9b",
   "metadata": {},
   "source": [
    "#### Añadir 4 palabras más al diccionario"
   ]
  },
  {
   "cell_type": "code",
   "execution_count": null,
   "id": "d2a9152e",
   "metadata": {},
   "outputs": [],
   "source": [
    "diccionario = {'Number':'Número', 'Name':'Nombre', 'Most':'La mayoría', 'Day':'Día', 'Give':'Dar', 'Because':'Porque', 'Want':'Querer', 'New':'Nuevo', 'Way':'Camino', 'Well':'Bien'}\n",
    "\n",
    "for i in range(4):\n",
    "    nueva_inglés = input('Añade una palabra en inglés: ')\n",
    "    nueva_español = input('Añade la traducción en español: ')\n",
    "    diccionario[nueva_inglés] = nueva_español\n",
    "    print(diccionario)"
   ]
  },
  {
   "cell_type": "code",
   "execution_count": null,
   "id": "e7413268",
   "metadata": {},
   "outputs": [],
   "source": [
    "phonebook = {}\n",
    "phonebook[\"Juan\"] = 938477566\n",
    "phonebook[\"Jack\"] = 938377264\n",
    "phonebook[\"Jill\"] = 947662781\n",
    "phonebook"
   ]
  },
  {
   "cell_type": "code",
   "execution_count": null,
   "id": "3c6a6261",
   "metadata": {},
   "outputs": [],
   "source": [
    "phonebook = {\n",
    "    \"John\" : 938477566,\n",
    "    \"Jack\" : 938377264,\n",
    "    \"Jill\" : 947662781\n",
    "}\n",
    "phonebook"
   ]
  },
  {
   "cell_type": "code",
   "execution_count": null,
   "id": "57f00ecb",
   "metadata": {},
   "outputs": [],
   "source": [
    "phonebook = {\"Juan\" : 938477566,\"Jack\" : 938377264,\"Jill\" : 947662781}\n",
    "for name, number in phonebook.items():\n",
    "    print(f\"El número de teléfono de {name} es {number}\")"
   ]
  },
  {
   "cell_type": "code",
   "execution_count": null,
   "id": "7736a761",
   "metadata": {},
   "outputs": [],
   "source": [
    "phonebook = {\n",
    "   \"Juan\" : 938477566,\n",
    "   \"Jack\" : 938377264,\n",
    "   \"Jill\" : 947662781\n",
    "}\n",
    "del phonebook[\"Juan\"]\n",
    "phonebook"
   ]
  }
 ],
 "metadata": {
  "kernelspec": {
   "display_name": "Python 3 (ipykernel)",
   "language": "python",
   "name": "python3"
  },
  "language_info": {
   "codemirror_mode": {
    "name": "ipython",
    "version": 3
   },
   "file_extension": ".py",
   "mimetype": "text/x-python",
   "name": "python",
   "nbconvert_exporter": "python",
   "pygments_lexer": "ipython3",
   "version": "3.9.13"
  }
 },
 "nbformat": 4,
 "nbformat_minor": 5
}
