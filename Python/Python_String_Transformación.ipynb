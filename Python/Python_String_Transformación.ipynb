{
 "cells": [
  {
   "cell_type": "markdown",
   "id": "dc13801c",
   "metadata": {},
   "source": [
    "## FUNCIONES DE LOS STRING\n",
    "\n",
    ".upper()\n",
    ".lower()\n",
    ".replace (esto, por esto) → reemplazar caracteres unos por otros.\n",
    ".split( , ) → para coger un csv por filas y separar los valores por comas\n",
    "concatenación → haciendo la suma de dos string, se concatenan"
   ]
  },
  {
   "cell_type": "code",
   "execution_count": null,
   "id": "d79ec1ae",
   "metadata": {},
   "outputs": [],
   "source": [
    "texto2= 'Hola'\n",
    "print(texto2, type(texto2))\n",
    "\n",
    "texto = 'Mi texto,De,Python, Para'\n",
    "print(texto2.upper()) #muestrame la variable en mayus\n",
    "print(texto2.lower()) #muestrame la variable en minusc\n",
    "texto2 = texto2.lower()\n",
    "print(texto2) # ahora aparece en minúsculas porque hemos transformado directamente la variable a lower"
   ]
  },
  {
   "cell_type": "code",
   "execution_count": null,
   "id": "9b710c9c",
   "metadata": {},
   "outputs": [],
   "source": [
    "a = 11\n",
    "print(a + 2)\n",
    "print(a, type(a), a * 2)\n",
    "a = '11'\n",
    "print(a + '2') #CONCATENACIÓN\n",
    "print(a, type(a), a + '2')"
   ]
  },
  {
   "cell_type": "code",
   "execution_count": 5,
   "id": "80ab30a1",
   "metadata": {},
   "outputs": [
    {
     "name": "stdout",
     "output_type": "stream",
     "text": [
      "Mi\n",
      "Mi\n",
      "['Mi', 'Text0', 'De', 'Pyth0n', 'Para']\n",
      "De\n",
      "De Para\n"
     ]
    }
   ],
   "source": [
    "texto = 'Mi,Text0,De,Pyth0n,Para'\n",
    "print(texto[0]+texto[1]) #coger caracteres de uno a uno y concatenarlos\n",
    "print(texto[0:2]) #coger caracteres desde-hasta para texto y listas #Operaciones de Slicing\n",
    "print(texto.split(',')) #Separa el texto/csv por comas en varias palabras (dentro de una lista)\n",
    "print(texto.split(',')[2]) #Devuelve la palabra 'De', segundo elemento de la lista\n",
    "\n",
    "a = texto.split(',') #otra opción: transformarlo y luego consultar con el print \n",
    "print(a[2],a[4])"
   ]
  },
  {
   "cell_type": "code",
   "execution_count": 4,
   "id": "6e7fb869",
   "metadata": {},
   "outputs": [
    {
     "name": "stdout",
     "output_type": "stream",
     "text": [
      "Python se come el mundo\n"
     ]
    }
   ],
   "source": [
    "a = \"PytH0N;,,S3-#C0Me\"\n",
    "b = \"El,mundo\"\n",
    "#print(a+b) # Python se come el mundo\n",
    "#lo mejor es ir haciendo los cambios por pasos, no de forma conjunta\n",
    "\n",
    "a = a.replace('0','O')\n",
    "a = a.replace('3','e')\n",
    "a = a.replace(';,,', ' ')\n",
    "a = a.replace('-#',' ')\n",
    "a = a.lower()\n",
    "b = b.replace (',', ' ')\n",
    "b = b.lower()\n",
    "a = a.replace('p','P')\n",
    "print(a + ' ' + b)"
   ]
  },
  {
   "cell_type": "markdown",
   "id": "72a59815",
   "metadata": {},
   "source": [
    "### TRANSFORMACIÓN DE DATOS"
   ]
  },
  {
   "cell_type": "code",
   "execution_count": 6,
   "id": "cc41f8d9",
   "metadata": {},
   "outputs": [
    {
     "name": "stdout",
     "output_type": "stream",
     "text": [
      "['IBM', 'Data Scientist', '95', 'Bangalore', '₹11;91;950/yr']\n",
      "['0', '1', '-1', '10167.62 €/mes']\n"
     ]
    }
   ],
   "source": [
    "lineaOrigen = \"IBM,Data Scientist,95,Bangalore,₹11;91;950/yr\"\n",
    "lineaSeparada = lineaOrigen.split(',')\n",
    "\n",
    "#print(len(lineaSeparada))\n",
    "#print(lineaSeparada, type(lineaSeparada))\n",
    "\n",
    "#VARIABLES\n",
    "\n",
    "empresa = lineaSeparada[0].lower()\n",
    "cargo = lineaSeparada[1].lower()\n",
    "fiabilidad = lineaSeparada[2] #string\n",
    "sueldo = lineaSeparada[4] #string\n",
    "\n",
    "lineaDestino = [empresa, cargo, fiabilidad, sueldo]\n",
    "print(lineaSeparada)\n",
    "\n",
    "#TRANSFORMACIÓN\n",
    "#tipificamos variable empresa según se pide\n",
    "if(empresa == 'ibm'):\n",
    "    empresa = '0'\n",
    "elif(empresa == 'microsoft'):\n",
    "    empresa = '1'\n",
    "elif(empresa == 'apple'):\n",
    "    empresa = '2'\n",
    "else:\n",
    "    empresa ='3'\n",
    "\n",
    "#tipificamos variable cargo según se pide\n",
    "if(cargo == 'data scientist'):\n",
    "    cargo = '1'\n",
    "elif(cargo == 'data analyst'):\n",
    "    cargo = '2'\n",
    "elif(cargo == 'data engineer'):\n",
    "    cargo = '3'\n",
    "else: \n",
    "    cargo ='4'\n",
    "\n",
    "#tipificamos variable fiabilidad según se pide\n",
    "if(fiabilidad <= '50'):\n",
    "    fiabilidad = '1'\n",
    "else:\n",
    "    fiabilidad = '-1'\n",
    "    \n",
    "#tipificamos variable sueldo según se pide (cambiamos moneda a € y a tiempo mensual)\n",
    "sueldo = sueldo.split( ';') #separamos con split para que nos valga para 1.000.000 yt para 11.000.000 y el cero lo coloque en su lugar(no siempre irá en 3ª posición)\n",
    "sueldo = sueldo[0] +'0'+ sueldo[1] + sueldo[2] #metemos el cero (errata) después de los millones\n",
    "sueldo = sueldo[1:9] #cogemos solo la parte numérica\n",
    "sueldo = int(sueldo) #convertimos a número para operar con él\n",
    "sueldo = round((0.011*sueldo/12),2) #tipo de cambio: 1 rupia = 0.011 euros\n",
    "sueldo = str(sueldo)+' €/mes' #convertimos a str para añadirle el texto al final\n",
    "\n",
    "#print(sueldo,type(sueldo))\n",
    "\n",
    "#RESULTADO\n",
    "lineaDestino = [empresa, cargo, fiabilidad, sueldo]\n",
    "print(lineaDestino)"
   ]
  },
  {
   "cell_type": "code",
   "execution_count": 7,
   "id": "9805ff32",
   "metadata": {},
   "outputs": [
    {
     "name": "stdout",
     "output_type": "stream",
     "text": [
      "['19', '20', '/ Pearl Version', 'DS', '2006.0', 'Role-Playing', 'Nintendo', '6.32', '4.34', '6.04', '1.35', '18.05', '90.0']\n",
      "['PEARL VERSION', '7', 0.2, '2']\n"
     ]
    }
   ],
   "source": [
    "lineaOrigen = '19,20,/ Pearl Version,DS,2006.0,Role-Playing,Nintendo,6.32,4.34,6.04,1.35,18.05,90.0'\n",
    "lineaSeparada = lineaOrigen.split(',')\n",
    "\n",
    "print(lineaSeparada)\n",
    "\n",
    "#crear variables\n",
    "nombre = lineaSeparada[2].replace('/ ','').upper()\n",
    "genero = lineaSeparada[5].lower()\n",
    "ratio = round(float(lineaSeparada[11])/float(lineaSeparada[12]),2)\n",
    "plataforma = lineaSeparada[3].lower()\n",
    "\n",
    "#algoritmo, if…\n",
    "if(plataforma == 'wii'):\n",
    "    plataforma = '1'\n",
    "elif(plataforma == 'ds'):\n",
    "    plataforma = '2'\n",
    "elif(plataforma == 'snes'):\n",
    "    plataforma = '3'\n",
    "elif(plataforma == 'ps3'):\n",
    "    plataforma = '4'\n",
    "elif(plataforma == 'x360'):\n",
    "    plataforma = '5'\n",
    "elif(plataforma == 'ps2'):\n",
    "    plataforma = '6'\n",
    "elif(plataforma == 'gba'):\n",
    "    plataforma = '7'\n",
    "else:\n",
    "    plataforma = '-1'\n",
    "\n",
    "if(genero == 'accion'):\n",
    "    genero = '1'\n",
    "elif(genero == 'sport'):\n",
    "    genero = '2'\n",
    "elif(genero == 'shoot'):\n",
    "    genero = '3'\n",
    "elif (genero == 'race'):\n",
    "    genero = '4'\n",
    "elif(genero == 'puzzle'):\n",
    "    genero = '5'\n",
    "elif(genero == 'misc'):\n",
    "    genero = '6'\n",
    "else: \n",
    "    genero = '7'\n",
    "\n",
    "#RESULTADO\n",
    "lineaDestino = [nombre, genero, ratio, plataforma]\n",
    "print(lineaDestino)\n"
   ]
  }
 ],
 "metadata": {
  "kernelspec": {
   "display_name": "Python 3 (ipykernel)",
   "language": "python",
   "name": "python3"
  },
  "language_info": {
   "codemirror_mode": {
    "name": "ipython",
    "version": 3
   },
   "file_extension": ".py",
   "mimetype": "text/x-python",
   "name": "python",
   "nbconvert_exporter": "python",
   "pygments_lexer": "ipython3",
   "version": "3.9.13"
  }
 },
 "nbformat": 4,
 "nbformat_minor": 5
}
