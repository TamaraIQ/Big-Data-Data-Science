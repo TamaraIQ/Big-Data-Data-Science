{
 "cells": [
  {
   "cell_type": "markdown",
   "id": "b464cc79",
   "metadata": {},
   "source": [
    "## FUNCIONES\n",
    "\n",
    "Meter SIEMPRE en función algo que vayamos a usar más de 1 vez.\n",
    "Para return lo más recomendable es solo 1 valor"
   ]
  },
  {
   "cell_type": "code",
   "execution_count": 2,
   "id": "abe10113",
   "metadata": {},
   "outputs": [],
   "source": [
    "def no_hace_nada():\n",
    "    pass\n",
    "no_hace_nada()"
   ]
  },
  {
   "cell_type": "code",
   "execution_count": 5,
   "id": "21f40327",
   "metadata": {},
   "outputs": [
    {
     "name": "stdout",
     "output_type": "stream",
     "text": [
      "PI PI\n"
     ]
    }
   ],
   "source": [
    "def haz_un_sonido():\n",
    "    print('PI PI')\n",
    "haz_un_sonido()"
   ]
  },
  {
   "cell_type": "code",
   "execution_count": 6,
   "id": "5942490a",
   "metadata": {},
   "outputs": [
    {
     "name": "stdout",
     "output_type": "stream",
     "text": [
      "🤝\n"
     ]
    }
   ],
   "source": [
    "def esVerdadero():\n",
    "    return True\n",
    "if esVerdadero():\n",
    "    print('🤝')\n",
    "else:\n",
    "    print('👎')"
   ]
  },
  {
   "cell_type": "code",
   "execution_count": null,
   "id": "67a7734c",
   "metadata": {},
   "outputs": [],
   "source": [
    "def respuesta():\n",
    "    print(42)\n",
    "\n",
    "respuesta()"
   ]
  },
  {
   "cell_type": "code",
   "execution_count": null,
   "id": "2ac85fdf",
   "metadata": {},
   "outputs": [],
   "source": [
    "def fruit_detection(color):\n",
    "    if color == 'red':\n",
    "        return \"It's an apple\"\n",
    "    elif color == 'yellow':\n",
    "        return \"It's a banana\"\n",
    "    elif color == 'green':\n",
    "        return \"It's a kiwi\"\n",
    "    else:\n",
    "        return f\"I don't know about the color {color}\"\n",
    "\n",
    "fruit = fruit_detection('green')\n",
    "fruit"
   ]
  },
  {
   "cell_type": "markdown",
   "id": "4d08163a",
   "metadata": {},
   "source": [
    "#### Mediante funciones realiza un programa que simule una calculadora\n",
    "1. Sumar\n",
    "2. Restar\n",
    "3. Multiplicar\n",
    "4. Dividir"
   ]
  },
  {
   "cell_type": "code",
   "execution_count": null,
   "id": "dbca7793",
   "metadata": {},
   "outputs": [],
   "source": [
    "# Definimos las variables\n",
    "num1 = int(input('Introduce el primer número: '))\n",
    "num2 = int(input('Introduce el segundo número: '))\n",
    "cálculo = input('Introduce el cálculo a realizar: \\n1.Sumar \\n2.Restar \\n3.Multiplicar \\n4.Dividir: \\n ')\n",
    "\n",
    "# Definimos las funciones de cálculo\n",
    "def Sumar(num1, num2):\n",
    "    print(num1 + num2)\n",
    "def Restar(num1, num2):\n",
    "    print(num1 - num2)\n",
    "def Multiplicar(num1, num2):\n",
    "    print(num1 * num2)\n",
    "def Dividir(num1, num2):\n",
    "    print(num1/num2)\n",
    "\n",
    "# Creamos el programa de calculadora\n",
    "if cálculo == '1':\n",
    "    Sumar(num1, num2)\n",
    "else: \n",
    "    if cálculo == '2':\n",
    "        Restar(num1, num2)\n",
    "    else:\n",
    "        if cálculo == '3':\n",
    "            Multiplicar(num1, num2)\n",
    "        else: \n",
    "            if cálculo ==  '4':\n",
    "                Dividir(num1, num2)\n",
    "            else: \n",
    "                print('Debes introducir un número entre el 1 y el 4')"
   ]
  }
 ],
 "metadata": {
  "kernelspec": {
   "display_name": "Python 3 (ipykernel)",
   "language": "python",
   "name": "python3"
  },
  "language_info": {
   "codemirror_mode": {
    "name": "ipython",
    "version": 3
   },
   "file_extension": ".py",
   "mimetype": "text/x-python",
   "name": "python",
   "nbconvert_exporter": "python",
   "pygments_lexer": "ipython3",
   "version": "3.9.13"
  }
 },
 "nbformat": 4,
 "nbformat_minor": 5
}
