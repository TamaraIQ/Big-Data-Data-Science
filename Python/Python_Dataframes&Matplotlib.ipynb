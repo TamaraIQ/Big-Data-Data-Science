{
 "cells": [
  {
   "cell_type": "markdown",
   "id": "0de9d1ef",
   "metadata": {},
   "source": [
    "## Objetivo:\n",
    "Generar un Dataset (conjunto de datos) a partir de un algoritmo que genere nombres de servidores (hostnames) “random”.\n",
    "Con este Dataset, generar un DataFrame de Pandas y generar una serie de gráficos con Matplotlib."
   ]
  },
  {
   "cell_type": "markdown",
   "id": "c0d3e7eb",
   "metadata": {},
   "source": [
    "###### 1. Importar las librerías necesarias"
   ]
  },
  {
   "cell_type": "code",
   "execution_count": 62,
   "id": "957c688c",
   "metadata": {},
   "outputs": [],
   "source": [
    "import random\n",
    "import pandas as pd\n",
    "import openpyxl\n",
    "import matplotlib.pyplot as plt"
   ]
  },
  {
   "cell_type": "markdown",
   "id": "fa40740d",
   "metadata": {},
   "source": [
    "###### 2. Inicializar algunas variables que después modificaremos."
   ]
  },
  {
   "cell_type": "code",
   "execution_count": 63,
   "id": "c414b3ce",
   "metadata": {},
   "outputs": [],
   "source": [
    "hostnames= []\n",
    "dataset = []\n",
    "df = None"
   ]
  },
  {
   "cell_type": "markdown",
   "id": "718a26ea",
   "metadata": {},
   "source": [
    "###### 3. Crear una función para generar los hostnames en base a unas reglas.\n",
    "\n",
    "●  La función se ha de llamar set_hostnames y debe recibir un parámetro llamado number_of_hosts de tipo int que represente el\n",
    "número de hosts que queremos generar.\n",
    "\n",
    "●  El hostname debe estar compuesto por un total de 8 carácteres alfanuméricos, las letras siempre mayúsculas.\n",
    "\n",
    "●  El primer caracter debe indicar el sistema operativo, siendo L para Linux, S para Solaris, A para AIX y H para HP-UX. La proporción aproximada de sistemas operativos debe ser: Linux 40%, Solaris 30%, AIX 20% y HP-UX 10%.\n",
    "\n",
    "●  El segundo caracter debe indicar el entorno, siendo D para Development, I para Integration, T para Testing, S para Staging y P para Production. La proporción aproximada de entornos debe ser: Development 10%, Integration 10%, Testing 25%, Staging 25%, Production 30%.\n",
    "\n",
    "●  Los tres siguientes caracteres deben indicar el país, siendo NOR para Norway, FRA para France, ITA para Italy, ESP para Spain, DEU para Germany e IRL para Ireland. La proporción aproximada de países debe ser: Norway 6%, France 9%, Italy 16%, Spain 16%, Germany 23%, Ireland 30%\n",
    "\n",
    "●  Por último 3 dígitos que indiquen el número de nodo que ya existe para un mismo sistema operativo, entorno y país. El valor\n",
    "debe ser incremental, comenzando en 001 y con un valor máximo de 999."
   ]
  },
  {
   "cell_type": "code",
   "execution_count": 64,
   "id": "c8618c0f",
   "metadata": {},
   "outputs": [],
   "source": [
    "def set_hostnames(number_of_hosts: int) -> None:                # number_of_hosts es un int. None -> la función no devuelve nada.\n",
    "    os_prefix = ['L']*40 + ['S']*30 + ['A']*20 + ['H']*10                                                # proporcion\n",
    "    enviroments = ['D']*10 + ['I']*10 + ['T']*25 + ['S']*25 + ['P']*30                                   # proporcion \n",
    "    alpha_3_country_codes = ['NOR']*6 + ['FRA']*9 + ['ITA']*16 + ['ESP']*16 + ['DEU']*23 + ['IRL']*30    # proporcion\n",
    "    grupo_alpha = []\n",
    "    \n",
    "    for i in range(number_of_hosts):\n",
    "        hostname = random.choice(os_prefix) + random.choice(enviroments) + random.choice(alpha_3_country_codes)\n",
    "        grupo_alpha.append(hostname)\n",
    "        hostname += str(grupo_alpha.count(hostname)).zfill(3)   # número de veces que se repite cada combinación de OS+Country. zfill para rellenar con 0 por la izqda hasta 3 dígitos\n",
    "        hostnames.append(hostname)"
   ]
  },
  {
   "cell_type": "markdown",
   "id": "3df0bdd6",
   "metadata": {},
   "source": [
    "###### 4. Crear una función para obtener el nombre del SO.\n",
    "\n",
    "La función se ha de llamar get_os, debe recibir un parámetro llamado hostname de tipo str y debe devolver una cadena Linux, Solaris, AIX o HP-UX dependiendo de la primera letra del parámetro hostname. Debería ser improbable que el hostname recibido como parámetro comience por una letra diferente de L, S, A o H, pero de darse el caso, la función debe devolver la cadena Unknow."
   ]
  },
  {
   "cell_type": "code",
   "execution_count": 65,
   "id": "3eef16a5",
   "metadata": {},
   "outputs": [],
   "source": [
    "def get_os(hostname: str) -> str:\n",
    "    if hostname.startswith('L'):\n",
    "        return 'Linux'\n",
    "    elif hostname.startswith('S'):\n",
    "        return 'Solaris'\n",
    "    elif hostname.startswith('A'):\n",
    "        return 'AIX'\n",
    "    elif hostname.startswith('H'):\n",
    "        return 'HP-UX'\n",
    "    else: \n",
    "        return 'Unknow'"
   ]
  },
  {
   "cell_type": "code",
   "execution_count": 66,
   "id": "5d28d4b8",
   "metadata": {},
   "outputs": [
    {
     "data": {
      "text/plain": [
       "'HP-UX'"
      ]
     },
     "execution_count": 66,
     "metadata": {},
     "output_type": "execute_result"
    }
   ],
   "source": [
    "# Ejemplo:\n",
    "\n",
    "get_os('HSIRL001')"
   ]
  },
  {
   "cell_type": "markdown",
   "id": "cb1ae187",
   "metadata": {},
   "source": [
    "###### 5. Crear una función para obtener el nombre del entorno. \n",
    "La función se ha de llamar get_enviroment, debe recibir un parámetro llamado hostname de tipo str y debe devolver una cadena Development, Integration, Testing, Staging o Production dependiendo de la segunda letra del parámetro hostname. Debería ser improbable que el hostname recibido como parámetro tenga por segundo caracter por una letra diferente de D, I, T, S o P, pero de darse el caso, la función debe devolver la cadena Unknow."
   ]
  },
  {
   "cell_type": "code",
   "execution_count": 67,
   "id": "82891236",
   "metadata": {},
   "outputs": [],
   "source": [
    "def get_environment(hostname: str) -> str:\n",
    "    if hostname[1] == 'D':\n",
    "        return 'Development'\n",
    "    elif hostname[1] == 'I':\n",
    "        return 'Integration'\n",
    "    elif hostname[1] == 'T':\n",
    "        return 'Testing'\n",
    "    elif hostname[1] == 'S':\n",
    "        return 'Staging'\n",
    "    elif hostname[1] == 'P':\n",
    "        return 'Production'\n",
    "    else:\n",
    "        return 'Unknow'"
   ]
  },
  {
   "cell_type": "code",
   "execution_count": 68,
   "id": "3a05acf5",
   "metadata": {},
   "outputs": [
    {
     "data": {
      "text/plain": [
       "'Staging'"
      ]
     },
     "execution_count": 68,
     "metadata": {},
     "output_type": "execute_result"
    }
   ],
   "source": [
    "# Ejemplo:\n",
    "\n",
    "get_environment('HSIRL001')"
   ]
  },
  {
   "cell_type": "markdown",
   "id": "b94a6355",
   "metadata": {},
   "source": [
    "###### 6. Creamos una función para obtener el nombre del país. \n",
    "\n",
    "La función se ha de llamar get_country, debe recibir un parámetro llamado hostname de tipo str y debe devolver una cadena Norway, Germany, Italy, Spain, Ireland o France dependiendo de las letras de la\n",
    "tercera a la quinta del parámetro hostname. Debería ser improbable que el hostname recibido como parámetro tenga por caracteres en las posiciones 3, 4, 5, caracteres diferentes de NOR, DEU, ITA, ESP, IRL o FRA, pero de darse el caso, la función debe devolver la cadena Unknow."
   ]
  },
  {
   "cell_type": "code",
   "execution_count": 69,
   "id": "432aedfc",
   "metadata": {},
   "outputs": [],
   "source": [
    "def get_country(hostname: str) -> str:\n",
    "    if hostname [2:5] == 'NOR':\n",
    "        return 'Norway'\n",
    "    elif hostname [2:5] == 'DEU':\n",
    "        return 'Germany'\n",
    "    elif hostname [2:5] == 'ITA':\n",
    "        return 'Italy'\n",
    "    elif hostname [2:5] == 'ESP':\n",
    "        return 'Spain'\n",
    "    elif hostname [2:5] == 'IRL':\n",
    "        return 'Ireland'\n",
    "    elif hostname [2:5] == 'FRA':\n",
    "        return 'France'\n",
    "    else:\n",
    "        return 'Unknow'"
   ]
  },
  {
   "cell_type": "code",
   "execution_count": 70,
   "id": "6f1f6b8f",
   "metadata": {},
   "outputs": [
    {
     "data": {
      "text/plain": [
       "'Ireland'"
      ]
     },
     "execution_count": 70,
     "metadata": {},
     "output_type": "execute_result"
    }
   ],
   "source": [
    "# Ejemplo:\n",
    "\n",
    "get_country('HSIRL001')"
   ]
  },
  {
   "cell_type": "markdown",
   "id": "c1456361",
   "metadata": {},
   "source": [
    "###### 7. Crear una función para generar el DataFrame. \n",
    "\n",
    "La función se ha de llamar set_dataframe y debe recibir un parámetro llamado count de tipo int, que represente el número de registros (filas) que vemos a generar. Para poder establecer un valor a la variable df que se encuentra fuera de la función y que inicialmente iniciamos con un valor None, debemos invocar a la variable df como global dentro de esta función. A continuación debemos llamar a la función set_hostnames pasándole como argumento el parámetro count. Después debemos ir añadiendo a la lista dataset que teníamos inicializada al principio de la práctica (primer punto) como lista vacía [] un diccionario por cada hostname de nuestra lista hostnames. Los campos de este diccionario deben ser: \n",
    "\n",
    "hostname: Por ejemplo LDIRL003.\n",
    "\n",
    "● os: Por ejemplo Linux.\n",
    "\n",
    "● enviroment: Por ejemplo Development.\n",
    "\n",
    "● country: Por ejemplo Ireland.\n",
    "\n",
    "● node: De tipo int, por ejemplo 3\n",
    "\n",
    "\n",
    "Finalmente creamos un DataFrame utilizando los datos de la lista de\n",
    "diccionarios dataset y asignando el DataFrame de Pandas a la variable\n",
    "global df"
   ]
  },
  {
   "cell_type": "code",
   "execution_count": 71,
   "id": "9779afbb",
   "metadata": {},
   "outputs": [],
   "source": [
    "def set_dataframe(count: int) -> None:\n",
    "    global df                     # df era None, por lo que hace falta hacer referencia global a ella, las otras variables eran listas vacías-> no ha hecho falta falta\n",
    "    \n",
    "    set_hostnames(count)          # generamos los hostnames\n",
    "    \n",
    "    for hostname in hostnames:    # por cada hostname en hostnames creamos un diccionario\n",
    "        dataset.append({          # añadimos los diccionarios al dataset vacío que inicializamos en el punto 1\n",
    "            'hostname': hostname,\n",
    "            'os': get_os(hostname),\n",
    "            'environment': get_environment(hostname),\n",
    "            'country': get_country(hostname),\n",
    "            'node': int(hostname[-1:])\n",
    "        })\n",
    "        \n",
    "    df = pd.DataFrame(dataset)    # metemos la lista de diccionarios 'dataset' en un df de Pandas"
   ]
  },
  {
   "cell_type": "markdown",
   "id": "cad52517",
   "metadata": {},
   "source": [
    "###### 8. Crear el DataFrame. \n",
    "\n",
    "Invocamos a la función set_dataframe pasándole como argumento el entero 1500. Inspeccionamos el DataFrame df para ver si se ha generado bien."
   ]
  },
  {
   "cell_type": "code",
   "execution_count": 72,
   "id": "c91c999d",
   "metadata": {},
   "outputs": [
    {
     "data": {
      "text/html": [
       "<div>\n",
       "<style scoped>\n",
       "    .dataframe tbody tr th:only-of-type {\n",
       "        vertical-align: middle;\n",
       "    }\n",
       "\n",
       "    .dataframe tbody tr th {\n",
       "        vertical-align: top;\n",
       "    }\n",
       "\n",
       "    .dataframe thead th {\n",
       "        text-align: right;\n",
       "    }\n",
       "</style>\n",
       "<table border=\"1\" class=\"dataframe\">\n",
       "  <thead>\n",
       "    <tr style=\"text-align: right;\">\n",
       "      <th></th>\n",
       "      <th>hostname</th>\n",
       "      <th>os</th>\n",
       "      <th>environment</th>\n",
       "      <th>country</th>\n",
       "      <th>node</th>\n",
       "    </tr>\n",
       "  </thead>\n",
       "  <tbody>\n",
       "    <tr>\n",
       "      <th>0</th>\n",
       "      <td>SPIRL001</td>\n",
       "      <td>Solaris</td>\n",
       "      <td>Production</td>\n",
       "      <td>Ireland</td>\n",
       "      <td>1</td>\n",
       "    </tr>\n",
       "    <tr>\n",
       "      <th>1</th>\n",
       "      <td>LTDEU001</td>\n",
       "      <td>Linux</td>\n",
       "      <td>Testing</td>\n",
       "      <td>Germany</td>\n",
       "      <td>1</td>\n",
       "    </tr>\n",
       "    <tr>\n",
       "      <th>2</th>\n",
       "      <td>AIDEU001</td>\n",
       "      <td>AIX</td>\n",
       "      <td>Integration</td>\n",
       "      <td>Germany</td>\n",
       "      <td>1</td>\n",
       "    </tr>\n",
       "    <tr>\n",
       "      <th>3</th>\n",
       "      <td>LIITA001</td>\n",
       "      <td>Linux</td>\n",
       "      <td>Integration</td>\n",
       "      <td>Italy</td>\n",
       "      <td>1</td>\n",
       "    </tr>\n",
       "    <tr>\n",
       "      <th>4</th>\n",
       "      <td>LSIRL001</td>\n",
       "      <td>Linux</td>\n",
       "      <td>Staging</td>\n",
       "      <td>Ireland</td>\n",
       "      <td>1</td>\n",
       "    </tr>\n",
       "    <tr>\n",
       "      <th>...</th>\n",
       "      <td>...</td>\n",
       "      <td>...</td>\n",
       "      <td>...</td>\n",
       "      <td>...</td>\n",
       "      <td>...</td>\n",
       "    </tr>\n",
       "    <tr>\n",
       "      <th>1495</th>\n",
       "      <td>APITA016</td>\n",
       "      <td>AIX</td>\n",
       "      <td>Production</td>\n",
       "      <td>Italy</td>\n",
       "      <td>6</td>\n",
       "    </tr>\n",
       "    <tr>\n",
       "      <th>1496</th>\n",
       "      <td>LPIRL056</td>\n",
       "      <td>Linux</td>\n",
       "      <td>Production</td>\n",
       "      <td>Ireland</td>\n",
       "      <td>6</td>\n",
       "    </tr>\n",
       "    <tr>\n",
       "      <th>1497</th>\n",
       "      <td>LTFRA014</td>\n",
       "      <td>Linux</td>\n",
       "      <td>Testing</td>\n",
       "      <td>France</td>\n",
       "      <td>4</td>\n",
       "    </tr>\n",
       "    <tr>\n",
       "      <th>1498</th>\n",
       "      <td>SIESP008</td>\n",
       "      <td>Solaris</td>\n",
       "      <td>Integration</td>\n",
       "      <td>Spain</td>\n",
       "      <td>8</td>\n",
       "    </tr>\n",
       "    <tr>\n",
       "      <th>1499</th>\n",
       "      <td>SPESP015</td>\n",
       "      <td>Solaris</td>\n",
       "      <td>Production</td>\n",
       "      <td>Spain</td>\n",
       "      <td>5</td>\n",
       "    </tr>\n",
       "  </tbody>\n",
       "</table>\n",
       "<p>1500 rows × 5 columns</p>\n",
       "</div>"
      ],
      "text/plain": [
       "      hostname       os  environment  country  node\n",
       "0     SPIRL001  Solaris   Production  Ireland     1\n",
       "1     LTDEU001    Linux      Testing  Germany     1\n",
       "2     AIDEU001      AIX  Integration  Germany     1\n",
       "3     LIITA001    Linux  Integration    Italy     1\n",
       "4     LSIRL001    Linux      Staging  Ireland     1\n",
       "...        ...      ...          ...      ...   ...\n",
       "1495  APITA016      AIX   Production    Italy     6\n",
       "1496  LPIRL056    Linux   Production  Ireland     6\n",
       "1497  LTFRA014    Linux      Testing   France     4\n",
       "1498  SIESP008  Solaris  Integration    Spain     8\n",
       "1499  SPESP015  Solaris   Production    Spain     5\n",
       "\n",
       "[1500 rows x 5 columns]"
      ]
     },
     "execution_count": 72,
     "metadata": {},
     "output_type": "execute_result"
    }
   ],
   "source": [
    "set_dataframe(1500)\n",
    "\n",
    "df"
   ]
  },
  {
   "cell_type": "markdown",
   "id": "f9058eba",
   "metadata": {},
   "source": [
    "###### 9. Guardar el DataFrame generado en un fichero CSV.\n",
    "\n",
    "El dataframe df recién generado debemos volcarlo a un fichero CSV llamado hosts.csv, ubicado en la misma carpeta donde se encuentra el libro de Jupyter Notebook, debe incluir las cabeceras (header=True) y no debe incluir los índices (index=False). A continuación hay que hacer la prueba de leer el archivo generado mediante el método read_csv, almacenar el DataFrame en una variable llamada hosts_df y visualizarlo para ver si se ha generado bien."
   ]
  },
  {
   "cell_type": "code",
   "execution_count": 73,
   "id": "c17c7909",
   "metadata": {},
   "outputs": [],
   "source": [
    "# Guardamos el df en un csv creado sobre la marcha\n",
    "\n",
    "df.to_csv('hosts.csv', header=True, index=False)"
   ]
  },
  {
   "cell_type": "code",
   "execution_count": 74,
   "id": "dcfcc84a",
   "metadata": {},
   "outputs": [],
   "source": [
    "# Leemos el csv\n",
    "\n",
    "hosts_df = pd.read_csv(\n",
    "    'hosts.csv',\n",
    "    index_col=None,            # La primera columna de la izqda no es un index, son directamente los hostnames\n",
    "    encoding='ISO-8859-1' , \n",
    "    delimiter=','\n",
    ")"
   ]
  },
  {
   "cell_type": "code",
   "execution_count": 75,
   "id": "63342c7d",
   "metadata": {},
   "outputs": [
    {
     "data": {
      "text/html": [
       "<div>\n",
       "<style scoped>\n",
       "    .dataframe tbody tr th:only-of-type {\n",
       "        vertical-align: middle;\n",
       "    }\n",
       "\n",
       "    .dataframe tbody tr th {\n",
       "        vertical-align: top;\n",
       "    }\n",
       "\n",
       "    .dataframe thead th {\n",
       "        text-align: right;\n",
       "    }\n",
       "</style>\n",
       "<table border=\"1\" class=\"dataframe\">\n",
       "  <thead>\n",
       "    <tr style=\"text-align: right;\">\n",
       "      <th></th>\n",
       "      <th>hostname</th>\n",
       "      <th>os</th>\n",
       "      <th>environment</th>\n",
       "      <th>country</th>\n",
       "      <th>node</th>\n",
       "    </tr>\n",
       "  </thead>\n",
       "  <tbody>\n",
       "    <tr>\n",
       "      <th>0</th>\n",
       "      <td>SPIRL001</td>\n",
       "      <td>Solaris</td>\n",
       "      <td>Production</td>\n",
       "      <td>Ireland</td>\n",
       "      <td>1</td>\n",
       "    </tr>\n",
       "    <tr>\n",
       "      <th>1</th>\n",
       "      <td>LTDEU001</td>\n",
       "      <td>Linux</td>\n",
       "      <td>Testing</td>\n",
       "      <td>Germany</td>\n",
       "      <td>1</td>\n",
       "    </tr>\n",
       "    <tr>\n",
       "      <th>2</th>\n",
       "      <td>AIDEU001</td>\n",
       "      <td>AIX</td>\n",
       "      <td>Integration</td>\n",
       "      <td>Germany</td>\n",
       "      <td>1</td>\n",
       "    </tr>\n",
       "    <tr>\n",
       "      <th>3</th>\n",
       "      <td>LIITA001</td>\n",
       "      <td>Linux</td>\n",
       "      <td>Integration</td>\n",
       "      <td>Italy</td>\n",
       "      <td>1</td>\n",
       "    </tr>\n",
       "    <tr>\n",
       "      <th>4</th>\n",
       "      <td>LSIRL001</td>\n",
       "      <td>Linux</td>\n",
       "      <td>Staging</td>\n",
       "      <td>Ireland</td>\n",
       "      <td>1</td>\n",
       "    </tr>\n",
       "    <tr>\n",
       "      <th>...</th>\n",
       "      <td>...</td>\n",
       "      <td>...</td>\n",
       "      <td>...</td>\n",
       "      <td>...</td>\n",
       "      <td>...</td>\n",
       "    </tr>\n",
       "    <tr>\n",
       "      <th>1495</th>\n",
       "      <td>APITA016</td>\n",
       "      <td>AIX</td>\n",
       "      <td>Production</td>\n",
       "      <td>Italy</td>\n",
       "      <td>6</td>\n",
       "    </tr>\n",
       "    <tr>\n",
       "      <th>1496</th>\n",
       "      <td>LPIRL056</td>\n",
       "      <td>Linux</td>\n",
       "      <td>Production</td>\n",
       "      <td>Ireland</td>\n",
       "      <td>6</td>\n",
       "    </tr>\n",
       "    <tr>\n",
       "      <th>1497</th>\n",
       "      <td>LTFRA014</td>\n",
       "      <td>Linux</td>\n",
       "      <td>Testing</td>\n",
       "      <td>France</td>\n",
       "      <td>4</td>\n",
       "    </tr>\n",
       "    <tr>\n",
       "      <th>1498</th>\n",
       "      <td>SIESP008</td>\n",
       "      <td>Solaris</td>\n",
       "      <td>Integration</td>\n",
       "      <td>Spain</td>\n",
       "      <td>8</td>\n",
       "    </tr>\n",
       "    <tr>\n",
       "      <th>1499</th>\n",
       "      <td>SPESP015</td>\n",
       "      <td>Solaris</td>\n",
       "      <td>Production</td>\n",
       "      <td>Spain</td>\n",
       "      <td>5</td>\n",
       "    </tr>\n",
       "  </tbody>\n",
       "</table>\n",
       "<p>1500 rows × 5 columns</p>\n",
       "</div>"
      ],
      "text/plain": [
       "      hostname       os  environment  country  node\n",
       "0     SPIRL001  Solaris   Production  Ireland     1\n",
       "1     LTDEU001    Linux      Testing  Germany     1\n",
       "2     AIDEU001      AIX  Integration  Germany     1\n",
       "3     LIITA001    Linux  Integration    Italy     1\n",
       "4     LSIRL001    Linux      Staging  Ireland     1\n",
       "...        ...      ...          ...      ...   ...\n",
       "1495  APITA016      AIX   Production    Italy     6\n",
       "1496  LPIRL056    Linux   Production  Ireland     6\n",
       "1497  LTFRA014    Linux      Testing   France     4\n",
       "1498  SIESP008  Solaris  Integration    Spain     8\n",
       "1499  SPESP015  Solaris   Production    Spain     5\n",
       "\n",
       "[1500 rows x 5 columns]"
      ]
     },
     "execution_count": 75,
     "metadata": {},
     "output_type": "execute_result"
    }
   ],
   "source": [
    "# Visualizamos si se ha generado bien \n",
    "\n",
    "hosts_df        "
   ]
  },
  {
   "cell_type": "markdown",
   "id": "3774af02",
   "metadata": {},
   "source": [
    "###### 10. Generar un único gráfico agrupando para cada país (country) los entornos (enviroment). \n",
    "\n",
    "Se debe utilizar la función unstack y se debe generar un plot de tipo barras (kind=bar). "
   ]
  },
  {
   "cell_type": "code",
   "execution_count": 76,
   "id": "442f64de",
   "metadata": {},
   "outputs": [
    {
     "data": {
      "text/plain": [
       "country  environment\n",
       "France   Development     13\n",
       "         Integration     15\n",
       "         Production      46\n",
       "         Staging         26\n",
       "         Testing         36\n",
       "Germany  Development     28\n",
       "         Integration     42\n",
       "         Production      94\n",
       "         Staging        100\n",
       "         Testing        107\n",
       "Ireland  Development     48\n",
       "         Integration     47\n",
       "         Production     129\n",
       "         Staging         99\n",
       "         Testing        124\n",
       "Italy    Development     18\n",
       "         Integration     27\n",
       "         Production      63\n",
       "         Staging         50\n",
       "         Testing         59\n",
       "Norway   Development     12\n",
       "         Integration      6\n",
       "         Production      24\n",
       "         Staging         21\n",
       "         Testing         28\n",
       "Spain    Development     27\n",
       "         Integration     27\n",
       "         Production      71\n",
       "         Staging         64\n",
       "         Testing         49\n",
       "dtype: int64"
      ]
     },
     "execution_count": 76,
     "metadata": {},
     "output_type": "execute_result"
    }
   ],
   "source": [
    "h = hosts_df                                                 # Renombramos el df inicial \n",
    "\n",
    "h_env = h.groupby([h['country'], 'environment']).size()      # Creamos una nueva serie con los datos agrupados por country y environment\n",
    "\n",
    "h_env    # es un dataframe"
   ]
  },
  {
   "cell_type": "code",
   "execution_count": 77,
   "id": "b6247cbf",
   "metadata": {},
   "outputs": [
    {
     "data": {
      "text/html": [
       "<div>\n",
       "<style scoped>\n",
       "    .dataframe tbody tr th:only-of-type {\n",
       "        vertical-align: middle;\n",
       "    }\n",
       "\n",
       "    .dataframe tbody tr th {\n",
       "        vertical-align: top;\n",
       "    }\n",
       "\n",
       "    .dataframe thead th {\n",
       "        text-align: right;\n",
       "    }\n",
       "</style>\n",
       "<table border=\"1\" class=\"dataframe\">\n",
       "  <thead>\n",
       "    <tr style=\"text-align: right;\">\n",
       "      <th>environment</th>\n",
       "      <th>Development</th>\n",
       "      <th>Integration</th>\n",
       "      <th>Production</th>\n",
       "      <th>Staging</th>\n",
       "      <th>Testing</th>\n",
       "    </tr>\n",
       "    <tr>\n",
       "      <th>country</th>\n",
       "      <th></th>\n",
       "      <th></th>\n",
       "      <th></th>\n",
       "      <th></th>\n",
       "      <th></th>\n",
       "    </tr>\n",
       "  </thead>\n",
       "  <tbody>\n",
       "    <tr>\n",
       "      <th>France</th>\n",
       "      <td>13</td>\n",
       "      <td>15</td>\n",
       "      <td>46</td>\n",
       "      <td>26</td>\n",
       "      <td>36</td>\n",
       "    </tr>\n",
       "    <tr>\n",
       "      <th>Germany</th>\n",
       "      <td>28</td>\n",
       "      <td>42</td>\n",
       "      <td>94</td>\n",
       "      <td>100</td>\n",
       "      <td>107</td>\n",
       "    </tr>\n",
       "    <tr>\n",
       "      <th>Ireland</th>\n",
       "      <td>48</td>\n",
       "      <td>47</td>\n",
       "      <td>129</td>\n",
       "      <td>99</td>\n",
       "      <td>124</td>\n",
       "    </tr>\n",
       "    <tr>\n",
       "      <th>Italy</th>\n",
       "      <td>18</td>\n",
       "      <td>27</td>\n",
       "      <td>63</td>\n",
       "      <td>50</td>\n",
       "      <td>59</td>\n",
       "    </tr>\n",
       "    <tr>\n",
       "      <th>Norway</th>\n",
       "      <td>12</td>\n",
       "      <td>6</td>\n",
       "      <td>24</td>\n",
       "      <td>21</td>\n",
       "      <td>28</td>\n",
       "    </tr>\n",
       "    <tr>\n",
       "      <th>Spain</th>\n",
       "      <td>27</td>\n",
       "      <td>27</td>\n",
       "      <td>71</td>\n",
       "      <td>64</td>\n",
       "      <td>49</td>\n",
       "    </tr>\n",
       "  </tbody>\n",
       "</table>\n",
       "</div>"
      ],
      "text/plain": [
       "environment  Development  Integration  Production  Staging  Testing\n",
       "country                                                            \n",
       "France                13           15          46       26       36\n",
       "Germany               28           42          94      100      107\n",
       "Ireland               48           47         129       99      124\n",
       "Italy                 18           27          63       50       59\n",
       "Norway                12            6          24       21       28\n",
       "Spain                 27           27          71       64       49"
      ]
     },
     "execution_count": 77,
     "metadata": {},
     "output_type": "execute_result"
    }
   ],
   "source": [
    "# Trasponemos filas con columnas para que en el gráfico se vean los países en el eje x y la cuenta de environment en el eje y\n",
    "\n",
    "h_env.unstack() "
   ]
  },
  {
   "cell_type": "code",
   "execution_count": 78,
   "id": "729923e1",
   "metadata": {},
   "outputs": [
    {
     "data": {
      "image/png": "[encoded data removed]",
      "text/plain": [
       "<Figure size 1100x750 with 1 Axes>"
      ]
     },
     "metadata": {},
     "output_type": "display_data"
    }
   ],
   "source": [
    "# Representamos gráficamente\n",
    "\n",
    "h_env.unstack().plot(kind='bar')\n",
    "plt.show()"
   ]
  },
  {
   "cell_type": "markdown",
   "id": "073ee7cc",
   "metadata": {},
   "source": [
    "###### 11. Crear una figura con 4 gráficos en una malla de 2 filas y 2 columnas.\n",
    "\n",
    "● En la esquina superior izquierda debe aparecer un gráfico cuyo\n",
    "título sea Type of OS grouped by country. Debe ser un gráfico de\n",
    "barras horizontales que representen una agrupación (groupby) por\n",
    "cada país (country) de los sistemas operativos (os) que tiene. Se\n",
    "debe utilizar la función unstack y el plot debe ser de tipo barras\n",
    "horizontales (barh).\n",
    "\n",
    "● En la esquina superior derecha debe aparecer un gráfico cuyo\n",
    "título sea Total Operating Systems. Debe representar la cantidad\n",
    "total de sistemas operativos (os) que hay en el DataFrame. Se\n",
    "debe utilizar la función groupby y el gráfico debe ser de tipo tarta\n",
    "(pie). Como etiquetas (labels) debe mostrar el número de\n",
    "sistemas operativos de cada tipo, y además debe mostrarse una\n",
    "leyenda (legend) en la esquina superior derecha en la que\n",
    "aparezca para cada sistema operativo el porcentaje existente en\n",
    "el DataFrame.\n",
    "\n",
    "● En la esquina inferior izquierda debe aparecer un gráfico cuyo\n",
    "título sea Total hosts by country. Debe ser un gráfico de barras horizontales que representen la cantidad total de hosts por cada\n",
    "país, para ello se debe utilizar la función value_counts() sobre los\n",
    "países (country) del DataFrame. El gráfico generado debe incluir\n",
    "como etiqueta en el eje x el texto Number of hosts y como etiqueta\n",
    "del eje y el texto Country. También se ha de incluir el número total\n",
    "de hosts que tiene cada país a la derecha de cada barra\n",
    "horizontal. Además, se ha de añadir como valor máximo del eje x\n",
    "un número equivalente al número total de hosts+100, de este\n",
    "modo se verá un pequeño margen a la derecha que hará que se\n",
    "visualice un poco mejor. Opcionalmente (si se hace puntuará) se\n",
    "puede añadir con la librería seaborn una paleta de colores\n",
    "(color_palette) que podemos utilizar para darle un color\n",
    "degradado a las barras.\n",
    "\n",
    "● En la esquina inferior derecha debe aparecer un gráfico cuyo\n",
    "título sea Hosts by country grouped by enviroment. Debe\n",
    "representar una agrupación (groupby) de hosts que hay por cada\n",
    "país (country) y entorno (enviroment). Se debe utilizar la función\n",
    "unstack(0) y el plot debe ser de tipo barras (bar). Como etiqueta\n",
    "del eje y se debe añadir el texto Number of hosts.\n",
    "Finalmente se deben ajustar los márgenes y espacios entre los\n",
    "gráficos (fig.tight_layout())."
   ]
  },
  {
   "cell_type": "code",
   "execution_count": 79,
   "id": "9b8d447f",
   "metadata": {},
   "outputs": [
    {
     "data": {
      "image/png": "[encoded data removed]",
      "text/plain": [
       "<Figure size 1100x750 with 4 Axes>"
      ]
     },
     "metadata": {},
     "output_type": "display_data"
    }
   ],
   "source": [
    "# CREAMOS ESPACIO DE GRÁFICOS 2 X 2\n",
    "\n",
    "fig, axes = plt.subplots(nrows=2, ncols=2)                         \n",
    "\n",
    "# axes marca posición gráficos: 0,0   0,1\n",
    "                           #   1,0   0,1\n",
    "\n",
    "h = hosts_df  \n",
    "\n",
    "##### GRÁFICO 1\n",
    "h1 = h.groupby([h['country'], 'os']).size()             # serie agrupada por país y os\n",
    "\n",
    "graf1 = h1.unstack().plot(kind='barh', ax=axes[0,0])    # unstack convierte la serie en df +  representamos gráficamente\n",
    "graf1.title.set_text('Type of OS grouped by country')\n",
    "graf1.set_ylabel('Country')\n",
    "\n",
    "\n",
    "##### GRÁFICO 2\n",
    "h2 = h.groupby([h['os']]).size()                                # serie agrupada por os\n",
    "\n",
    "graf2 = h2.plot(kind = 'pie', ax=axes[0,1], labels = h2)\n",
    "graf2.title.set_text('Total Operating Systems')\n",
    "\n",
    "h2_df = pd.DataFrame(h2)                                        # convierto en df\n",
    "h2_df['Proporcion'] = round((h2_df/ h2_df.sum())*100, 2)        # añadimos columna cálculo proporciones al df agrupado por os\n",
    "h2_df['Proporcion'] = h2_df['Proporcion'].astype('str')           \n",
    "h2_df['OS']= h2_df.index.astype('str')                          # creo una copia del index como str porque lo necesito concatenar\n",
    "h2_df['Proporcion'] = h2_df['OS'] + ' (' + h2_df['Proporcion'] + ' %)'\n",
    "\n",
    "graf2.set_ylabel(' ')                                           # quito la etiqueta del eje y que se genera automáticamente\n",
    "graf2.legend(h2_df['Proporcion'], bbox_to_anchor=(1.05, 1))     # bbox to anchor para poner la leyenda a la derecha del gráfico\n",
    "\n",
    "\n",
    "##### GRÁFICO 3\n",
    "h3 = h['country']                         # serie que contiene solo country            \n",
    "h3_df = pd.DataFrame(h3.value_counts())   # contamos el nº de veces que aparece cada country en la serie y hacemos df\n",
    "\n",
    "graf3 = h3_df.plot(kind='barh', ax=axes[1,0], colormap = 'summer')                                  \n",
    "graf3.title.set_text('Total hosts by country')\n",
    "graf3.set_xlabel('Number of hosts')\n",
    "graf3.set_ylabel('Country')\n",
    "graf3.get_legend().remove()                            # quito la leyenda que se genera automáticamente\n",
    "graf3.set_xlim([0, (max(h3.value_counts())+ 100)])     # ponemos como límite del eje x el máximo de hostnames por país + 100 para mejor visualización\n",
    "\n",
    "# Añadir el valor al lado de cada barra\n",
    "i = 0\n",
    "xoffset = 0.1                              # ajustar el texto de las etiquetas\n",
    "\n",
    "for v in h3.value_counts():                # cogemos esto en vez de el df porque si no, intenta concatenar el i(float)+ country(str)\n",
    "    graf3.text(y=i, x=v + xoffset, s=v, ha='left', va='center') \n",
    "    i += 1\n",
    "\n",
    "    \n",
    "##### GRÁFICO 4\n",
    "h4 = h.groupby([h['country'], 'environment']).size()       # serie agrupada por country y environment\n",
    "graf4 = h4.unstack(0).plot(kind = 'bar', ax=axes[1,1])     # unstack lo convierte en df + representamos graficamente\n",
    "graf4.title.set_text('Hosts by country grouped by enviroment')\n",
    "graf4.set_ylabel('Number of hosts')\n",
    "\n",
    "\n",
    "##### AJUSTES FINALES DE TAMAÑO \n",
    "plt.rcParams[\"figure.figsize\"] = (11,7.5)         # establecemos el tamaño de cada gráfico (más grandes que antes)\n",
    "fig.tight_layout()                                # autocorregir espacios entre gráficos para que se vea presentable\n",
    "\n",
    "plt.show()\n"
   ]
  }
 ],
 "metadata": {
  "kernelspec": {
   "display_name": "Python 3 (ipykernel)",
   "language": "python",
   "name": "python3"
  },
  "language_info": {
   "codemirror_mode": {
    "name": "ipython",
    "version": 3
   },
   "file_extension": ".py",
   "mimetype": "text/x-python",
   "name": "python",
   "nbconvert_exporter": "python",
   "pygments_lexer": "ipython3",
   "version": "3.9.13"
  }
 },
 "nbformat": 4,
 "nbformat_minor": 5
}
