{
 "cells": [
  {
   "cell_type": "markdown",
   "id": "88a8f30d",
   "metadata": {},
   "source": [
    "## Juego del ahorcado"
   ]
  },
  {
   "cell_type": "code",
   "execution_count": 3,
   "id": "afb67238",
   "metadata": {
    "scrolled": true
   },
   "outputs": [
    {
     "name": "stdout",
     "output_type": "stream",
     "text": [
      "Hola, es hora de jugar al ahorcado\n",
      " \n",
      "Comienza a adivinar\n",
      "Introduce aquí la palabra a adivinar:  ········\n",
      "***** \n",
      "Introduce una letra o la palabra a adivinar: t\n",
      "****t \n",
      "Introduce una letra o la palabra a adivinar: u\n",
      "\u001b[31mEquivocación\u001b[39m\n",
      "Te quedan 6  vidas\n",
      "****t \n",
      "Introduce una letra o la palabra a adivinar: 5\n",
      "\u001b[31mEquivocación\u001b[39m\n",
      "Te quedan 5  vidas\n",
      "****t \n",
      "Introduce una letra o la palabra a adivinar: e\n",
      "*e*et \n",
      "Introduce una letra o la palabra a adivinar: r\n",
      "re*et \n",
      "Introduce una letra o la palabra a adivinar: s\n",
      "reset\n",
      "\u001b[42m¡¡Felicidades, has ganado!!\u001b[49m\n"
     ]
    }
   ],
   "source": [
    "import time\n",
    "import getpass \n",
    "from colorama import init, Fore, Back, Style\n",
    "\n",
    "print('Hola, es hora de jugar al ahorcado')\n",
    "print(' ')\n",
    "time.sleep(1)                          #un segundo entre líneas\n",
    "print('Comienza a adivinar')\n",
    "time.sleep(0.5)\n",
    "palabra = getpass.getpass('Introduce aquí la palabra a adivinar:  ')  \n",
    "tupalabra = ' '\n",
    "vidas = 7\n",
    "\n",
    "# creamos el bucle while en el que va a consistir el juego:\n",
    "while vidas > 0:                                   \n",
    "    fallos = 0                         # empezamos con 0 fallos\n",
    "    \n",
    "    # para que salgan los * del ahorcado:\n",
    "    for letra in palabra:              # recorremos la palabra a adivinar\n",
    "         if letra in tupalabra:        # si alguna letra que hayamos introducido (guardada en tupalabra) estaba en la palabra a adivinar\n",
    "                print(letra, end='')   # poner cada letra en sus sitios. end -> la siguiente línea va pegada\n",
    "         else:                         # las letras que no haya adivinado, aparecerán como *\n",
    "            print('*',end='')          # end -> los asteriscos van todos en la misma línea\n",
    "            fallos += 1                # añadimos un fallo porque esa letra no está en la palabra a adivinar, ponemos * en su lugar\n",
    "    \n",
    "    if fallos == 0:                    # si acierta todas las letras de la palabra\n",
    "        print('')\n",
    "        print(Back.GREEN + '¡¡Felicidades, has ganado!!' + Back.RESET)\n",
    "        break\n",
    "    \n",
    "    print(' ')\n",
    "    tuletra = input('Introduce una letra o la palabra a adivinar: ')\n",
    "    tupalabra += tuletra              # vamos metiendo todas las letras introducidas a tupalabra\n",
    "    \n",
    "    \n",
    "    if tuletra not in palabra:        # si no está la letra en la palabra a adivinar:\n",
    "        vidas -= 1\n",
    "        print(Fore.RED +'Equivocación'+ Fore.RESET)\n",
    "        print('Te quedan ' + str(vidas), ' vidas')\n",
    "    if vidas == 0:\n",
    "        print(Back.RED + 'Perdiste'+ Back.RESET)\n",
    "\n",
    "else:\n",
    "    print('Gracias por participar')\n"
   ]
  },
  {
   "cell_type": "code",
   "execution_count": null,
   "id": "9dd5a914",
   "metadata": {},
   "outputs": [],
   "source": []
  },
  {
   "cell_type": "code",
   "execution_count": null,
   "id": "c1ada72c",
   "metadata": {},
   "outputs": [],
   "source": []
  }
 ],
 "metadata": {
  "kernelspec": {
   "display_name": "Python 3 (ipykernel)",
   "language": "python",
   "name": "python3"
  },
  "language_info": {
   "codemirror_mode": {
    "name": "ipython",
    "version": 3
   },
   "file_extension": ".py",
   "mimetype": "text/x-python",
   "name": "python",
   "nbconvert_exporter": "python",
   "pygments_lexer": "ipython3",
   "version": "3.9.13"
  }
 },
 "nbformat": 4,
 "nbformat_minor": 5
}
