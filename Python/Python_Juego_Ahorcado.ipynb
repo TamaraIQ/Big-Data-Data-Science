{
 "cells": [
  {
   "cell_type": "markdown",
   "id": "88a8f30d",
   "metadata": {},
   "source": [
    "## Juego del ahorcado"
   ]
  },
  {
   "cell_type": "code",
   "execution_count": 6,
   "id": "afb67238",
   "metadata": {
    "scrolled": true
   },
   "outputs": [
    {
     "name": "stdout",
     "output_type": "stream",
     "text": [
      "Hola, es hora de jugar al ahorcado\n",
      " \n",
      "Comienza a adivinar\n"
     ]
    },
    {
     "ename": "KeyboardInterrupt",
     "evalue": "Interrupted by user",
     "output_type": "error",
     "traceback": [
      "\u001b[1;31m---------------------------------------------------------------------------\u001b[0m",
      "\u001b[1;31mKeyboardInterrupt\u001b[0m                         Traceback (most recent call last)",
      "\u001b[1;32m~\\AppData\\Local\\Temp\\ipykernel_8688\\414429040.py\u001b[0m in \u001b[0;36m<module>\u001b[1;34m\u001b[0m\n\u001b[0;32m      7\u001b[0m \u001b[0mprint\u001b[0m\u001b[1;33m(\u001b[0m\u001b[1;34m'Comienza a adivinar'\u001b[0m\u001b[1;33m)\u001b[0m\u001b[1;33m\u001b[0m\u001b[1;33m\u001b[0m\u001b[0m\n\u001b[0;32m      8\u001b[0m \u001b[0mtime\u001b[0m\u001b[1;33m.\u001b[0m\u001b[0msleep\u001b[0m\u001b[1;33m(\u001b[0m\u001b[1;36m0.5\u001b[0m\u001b[1;33m)\u001b[0m\u001b[1;33m\u001b[0m\u001b[1;33m\u001b[0m\u001b[0m\n\u001b[1;32m----> 9\u001b[1;33m \u001b[0mpalabra\u001b[0m \u001b[1;33m=\u001b[0m \u001b[0mgetpass\u001b[0m\u001b[1;33m.\u001b[0m\u001b[0mgetpass\u001b[0m\u001b[1;33m(\u001b[0m\u001b[1;34m'Introduce aquí la palabra a adivinar:  '\u001b[0m\u001b[1;33m)\u001b[0m\u001b[1;33m\u001b[0m\u001b[1;33m\u001b[0m\u001b[0m\n\u001b[0m\u001b[0;32m     10\u001b[0m \u001b[0mtupalabra\u001b[0m \u001b[1;33m=\u001b[0m \u001b[1;34m' '\u001b[0m\u001b[1;33m\u001b[0m\u001b[1;33m\u001b[0m\u001b[0m\n\u001b[0;32m     11\u001b[0m \u001b[0mvidas\u001b[0m \u001b[1;33m=\u001b[0m \u001b[1;36m7\u001b[0m\u001b[1;33m\u001b[0m\u001b[1;33m\u001b[0m\u001b[0m\n",
      "\u001b[1;32m~\\anaconda3\\lib\\site-packages\\ipykernel\\kernelbase.py\u001b[0m in \u001b[0;36mgetpass\u001b[1;34m(self, prompt, stream)\u001b[0m\n\u001b[0;32m   1157\u001b[0m                 \u001b[0mstacklevel\u001b[0m\u001b[1;33m=\u001b[0m\u001b[1;36m2\u001b[0m\u001b[1;33m,\u001b[0m\u001b[1;33m\u001b[0m\u001b[1;33m\u001b[0m\u001b[0m\n\u001b[0;32m   1158\u001b[0m             )\n\u001b[1;32m-> 1159\u001b[1;33m         return self._input_request(\n\u001b[0m\u001b[0;32m   1160\u001b[0m             \u001b[0mprompt\u001b[0m\u001b[1;33m,\u001b[0m\u001b[1;33m\u001b[0m\u001b[1;33m\u001b[0m\u001b[0m\n\u001b[0;32m   1161\u001b[0m             \u001b[0mself\u001b[0m\u001b[1;33m.\u001b[0m\u001b[0m_parent_ident\u001b[0m\u001b[1;33m[\u001b[0m\u001b[1;34m\"shell\"\u001b[0m\u001b[1;33m]\u001b[0m\u001b[1;33m,\u001b[0m\u001b[1;33m\u001b[0m\u001b[1;33m\u001b[0m\u001b[0m\n",
      "\u001b[1;32m~\\anaconda3\\lib\\site-packages\\ipykernel\\kernelbase.py\u001b[0m in \u001b[0;36m_input_request\u001b[1;34m(self, prompt, ident, parent, password)\u001b[0m\n\u001b[0;32m   1217\u001b[0m             \u001b[1;32mexcept\u001b[0m \u001b[0mKeyboardInterrupt\u001b[0m\u001b[1;33m:\u001b[0m\u001b[1;33m\u001b[0m\u001b[1;33m\u001b[0m\u001b[0m\n\u001b[0;32m   1218\u001b[0m                 \u001b[1;31m# re-raise KeyboardInterrupt, to truncate traceback\u001b[0m\u001b[1;33m\u001b[0m\u001b[1;33m\u001b[0m\u001b[0m\n\u001b[1;32m-> 1219\u001b[1;33m                 \u001b[1;32mraise\u001b[0m \u001b[0mKeyboardInterrupt\u001b[0m\u001b[1;33m(\u001b[0m\u001b[1;34m\"Interrupted by user\"\u001b[0m\u001b[1;33m)\u001b[0m \u001b[1;32mfrom\u001b[0m \u001b[1;32mNone\u001b[0m\u001b[1;33m\u001b[0m\u001b[1;33m\u001b[0m\u001b[0m\n\u001b[0m\u001b[0;32m   1220\u001b[0m             \u001b[1;32mexcept\u001b[0m \u001b[0mException\u001b[0m\u001b[1;33m:\u001b[0m\u001b[1;33m\u001b[0m\u001b[1;33m\u001b[0m\u001b[0m\n\u001b[0;32m   1221\u001b[0m                 \u001b[0mself\u001b[0m\u001b[1;33m.\u001b[0m\u001b[0mlog\u001b[0m\u001b[1;33m.\u001b[0m\u001b[0mwarning\u001b[0m\u001b[1;33m(\u001b[0m\u001b[1;34m\"Invalid Message:\"\u001b[0m\u001b[1;33m,\u001b[0m \u001b[0mexc_info\u001b[0m\u001b[1;33m=\u001b[0m\u001b[1;32mTrue\u001b[0m\u001b[1;33m)\u001b[0m\u001b[1;33m\u001b[0m\u001b[1;33m\u001b[0m\u001b[0m\n",
      "\u001b[1;31mKeyboardInterrupt\u001b[0m: Interrupted by user"
     ]
    }
   ],
   "source": [
    "import time\n",
    "import getpass \n",
    "\n",
    "print('Hola, es hora de jugar al ahorcado')\n",
    "print(' ')\n",
    "time.sleep(1)                          #un segundo entre líneas\n",
    "print('Comienza a adivinar')\n",
    "time.sleep(0.5)\n",
    "palabra = getpass.getpass('Introduce aquí la palabra a adivinar:  ')  \n",
    "tupalabra = ' '\n",
    "vidas = 7\n",
    "\n",
    "# creamos el bucle while en el que va a consistir el juego:\n",
    "while vidas > 0:                                   \n",
    "    fallos = 0                         # empezamos con 0 fallos\n",
    "    \n",
    "    # para que salgan los * del ahorcado:\n",
    "    for letra in palabra:              # recorremos la palabra a adivinar\n",
    "         if letra in tupalabra:        # si alguna letra que hayamos introducido (guardada en tupalabra) estaba en la palabra a adivinar\n",
    "                print(letra, end='')   # pones la letra en sus sitios. end -> la siguiente línea va pegada\n",
    "         else:                         # las letras que no haya adivinado, aparecerán como *\n",
    "            print('*',end='')          # end -> para que los asteriscos vayan todos en la misma línea\n",
    "            fallos += 1                # añadimos un fallo porque esa letra no está en la palabra a adivinar, ponemos * en su lugar\n",
    "    \n",
    "    if fallos == 0:                    # si acierta todas las letras de la palabra\n",
    "        print('')\n",
    "        print('Felicidades, has ganado')\n",
    "        break\n",
    "    \n",
    "    print(' ')\n",
    "    tuletra = input('Introduce una letra/palabra: ')\n",
    "    tupalabra += tuletra              # vamos metiendo todas las letras introducidas a tupalabra\n",
    "    \n",
    "    \n",
    "    if tuletra not in palabra:        # si no está la letra en la palabra a adivinar:\n",
    "        vidas -= 1\n",
    "        print('Equivocación')\n",
    "        print('Tú tienes ' + str(vidas), ' vidas')\n",
    "    if vidas == 0:\n",
    "        print('Perdiste')\n",
    "\n",
    "else:\n",
    "    print('Gracias por participar')\n"
   ]
  },
  {
   "cell_type": "code",
   "execution_count": null,
   "id": "9dd5a914",
   "metadata": {},
   "outputs": [],
   "source": []
  },
  {
   "cell_type": "code",
   "execution_count": null,
   "id": "c1ada72c",
   "metadata": {},
   "outputs": [],
   "source": []
  }
 ],
 "metadata": {
  "kernelspec": {
   "display_name": "Python 3 (ipykernel)",
   "language": "python",
   "name": "python3"
  },
  "language_info": {
   "codemirror_mode": {
    "name": "ipython",
    "version": 3
   },
   "file_extension": ".py",
   "mimetype": "text/x-python",
   "name": "python",
   "nbconvert_exporter": "python",
   "pygments_lexer": "ipython3",
   "version": "3.9.13"
  }
 },
 "nbformat": 4,
 "nbformat_minor": 5
}
