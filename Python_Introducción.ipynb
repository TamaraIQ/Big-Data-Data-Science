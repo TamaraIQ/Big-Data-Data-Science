{
 "cells": [
  {
   "cell_type": "markdown",
   "id": "6e119845",
   "metadata": {},
   "source": [
    "## INTRODUCCIÓN"
   ]
  },
  {
   "cell_type": "code",
   "execution_count": null,
   "id": "3f3bcce9",
   "metadata": {},
   "outputs": [],
   "source": [
    "# Autor: Tamara Infante Quintanar\n",
    "# Fecha: 23/02/2022\n",
    "# Objetivo: \n",
    "# Librerías \n",
    "# Funciones\n",
    "# Variables\n",
    "# in  \n",
    "# out (siempre empieza en 0)\n",
    "# ALGORITMO\n",
    "# Resultado"
   ]
  },
  {
   "cell_type": "markdown",
   "id": "d542d94a",
   "metadata": {},
   "source": [
    "#### Crear 2 variables, Variable1 con valor numerico=5 y Variable2 con valor texto=\"Hola\""
   ]
  },
  {
   "cell_type": "code",
   "execution_count": null,
   "id": "f385aa8a",
   "metadata": {},
   "outputs": [],
   "source": [
    "Variable1 = 5\n",
    "Variable2 = 'Hola'"
   ]
  },
  {
   "cell_type": "markdown",
   "id": "9caa5c82",
   "metadata": {},
   "source": [
    "#### Crear una variable llamada Valor1 que contenga el número 5 y una variable llamada\n",
    "Valor2 que contenga el texto “Comienzo a programar”"
   ]
  },
  {
   "cell_type": "code",
   "execution_count": null,
   "id": "81a9fd57",
   "metadata": {},
   "outputs": [],
   "source": [
    "Valor1 = 5\n",
    "Valor2 = 'Comienzo a programar'"
   ]
  },
  {
   "cell_type": "markdown",
   "id": "bd472bf6",
   "metadata": {},
   "source": [
    "#### Mostrar 'Buenos días+nombre'"
   ]
  },
  {
   "cell_type": "code",
   "execution_count": null,
   "id": "3b3f51b4",
   "metadata": {},
   "outputs": [],
   "source": [
    "nombre = input('Nombre de usuario: ')\n",
    "print ('Buenos días, ' + nombre)"
   ]
  },
  {
   "cell_type": "markdown",
   "id": "8010687c",
   "metadata": {},
   "source": [
    "#### Crear 2 variables, Variable1 y Variable2 que reciben valor por teclado. Despues muestra su multiplicación"
   ]
  },
  {
   "cell_type": "code",
   "execution_count": 13,
   "id": "6c623788",
   "metadata": {},
   "outputs": [
    {
     "name": "stdout",
     "output_type": "stream",
     "text": [
      "Introduce el primer valor: 4\n",
      "Introduce el segundo valor: 5\n",
      "La multiplicación es 20\n"
     ]
    }
   ],
   "source": [
    "Variable1 = int(input('Introduce el primer valor: '))\n",
    "Variable2 = int(input('Introduce el segundo valor: '))\n",
    "resultado = Variable1 * Variable2\n",
    "print('La multiplicación es ' + str(resultado))"
   ]
  },
  {
   "cell_type": "markdown",
   "id": "95a121c5",
   "metadata": {},
   "source": [
    "#### Pedir nombre por teclado y mostrar un mensaje personalizado deseando un buen dia"
   ]
  },
  {
   "cell_type": "code",
   "execution_count": 15,
   "id": "7f844c5a",
   "metadata": {},
   "outputs": [
    {
     "name": "stdout",
     "output_type": "stream",
     "text": [
      "Introduce tu nombre aquí: Tamara\n",
      "Buen día Tamara\n"
     ]
    }
   ],
   "source": [
    "nombre = input('Introduce tu nombre aquí: ')\n",
    "print('Buen día ' + nombre)"
   ]
  },
  {
   "cell_type": "markdown",
   "id": "35ec290d",
   "metadata": {},
   "source": [
    "#### Pide 3 variables: Variable1, Variable2 y Variable3. Introduce en ellas por teclado valores numéricos. Si son iguales mostrara True, False en caso contrario. (Sin usar IF)"
   ]
  },
  {
   "cell_type": "code",
   "execution_count": 16,
   "id": "9e402b59",
   "metadata": {},
   "outputs": [
    {
     "name": "stdout",
     "output_type": "stream",
     "text": [
      "Introduce la variable 1: 1\n",
      "Introduce la variable 2: 1\n",
      "Introduce la variable 3: 1\n"
     ]
    },
    {
     "data": {
      "text/plain": [
       "True"
      ]
     },
     "execution_count": 16,
     "metadata": {},
     "output_type": "execute_result"
    }
   ],
   "source": [
    "Variable1 = int(input('Introduce la variable 1: '))\n",
    "Variable2 = int(input('Introduce la variable 2: '))\n",
    "Variable3 = int(input('Introduce la variable 3: '))\n",
    "Variable1 == Variable2 == Variable3"
   ]
  },
  {
   "cell_type": "markdown",
   "id": "22535507",
   "metadata": {},
   "source": [
    "#### Pide 3 variables: Variable1, Variable2 y Variable3. Introduce en ellas por teclado valores\n",
    "numéricos. Si alguna es mayor de 100 mostrara True, False en caso contrario. (Todavía no\n",
    "podemos usar IF)"
   ]
  },
  {
   "cell_type": "code",
   "execution_count": 17,
   "id": "1abdbeaa",
   "metadata": {
    "scrolled": true
   },
   "outputs": [
    {
     "name": "stdout",
     "output_type": "stream",
     "text": [
      "Introduce la variable 1: 100\n",
      "Introduce la variable 2: 102\n",
      "Introduce la variable 3: 90\n"
     ]
    },
    {
     "data": {
      "text/plain": [
       "True"
      ]
     },
     "execution_count": 17,
     "metadata": {},
     "output_type": "execute_result"
    }
   ],
   "source": [
    "Variable1 = int(input('Introduce la variable 1: '))\n",
    "Variable2 = int(input('Introduce la variable 2: '))\n",
    "Variable3 = int(input('Introduce la variable 3: '))\n",
    "(Variable1 > 100 or Variable2 > 100 or Variable3 > 100)"
   ]
  },
  {
   "cell_type": "markdown",
   "id": "589ce7db",
   "metadata": {},
   "source": [
    "#### Calcular la hipotenusa dados los catetos"
   ]
  },
  {
   "cell_type": "code",
   "execution_count": 1,
   "id": "099ee158",
   "metadata": {},
   "outputs": [
    {
     "name": "stdout",
     "output_type": "stream",
     "text": [
      "Hipotenusa es igual a 27.294688127912362\n"
     ]
    }
   ],
   "source": [
    "#in  \n",
    "a = 4\n",
    "b = 27\n",
    "#out (siempre empieza en 0)\n",
    "c = 0 \n",
    "# ALGORITMO\n",
    "c = ( a ** 2 + b ** 2) ** 0.5\n",
    "# Resultado\n",
    "print('Hipotenusa es igual a', c)"
   ]
  },
  {
   "cell_type": "markdown",
   "id": "c621a964",
   "metadata": {},
   "source": [
    "#### Calcular la circunferencia de un círculo dado el radio"
   ]
  },
  {
   "cell_type": "code",
   "execution_count": 2,
   "id": "d03560d1",
   "metadata": {},
   "outputs": [
    {
     "name": "stdout",
     "output_type": "stream",
     "text": [
      "El perímetro de la circunferencia es 75.36\n"
     ]
    }
   ],
   "source": [
    "#in  \n",
    "r = 12\n",
    "#out (siempre empieza en 0)\n",
    "p = 0\n",
    "# ALGORITMO\n",
    "p = 2 * 3.14 * r\n",
    "# Resultado\n",
    "print('El perímetro de la circunferencia es', p)"
   ]
  },
  {
   "cell_type": "markdown",
   "id": "f835c191",
   "metadata": {},
   "source": [
    "#### Calcular el diámetro de un círculo dado el radio"
   ]
  },
  {
   "cell_type": "code",
   "execution_count": null,
   "id": "f3ea2ddb",
   "metadata": {},
   "outputs": [],
   "source": [
    "#in  \n",
    "r = 12\n",
    "#out (siempre empieza en 0)\n",
    "d = 0\n",
    "# ALGORITMO\n",
    "d = 2 * r\n",
    "# Resultado\n",
    "print('El diámetro de la circunferencia es', d)"
   ]
  },
  {
   "cell_type": "markdown",
   "id": "7873928f",
   "metadata": {},
   "source": [
    "#### Calcular el índice de masa corporal dados el peso (p) y la altura (a)"
   ]
  },
  {
   "cell_type": "code",
   "execution_count": null,
   "id": "deb4c050",
   "metadata": {},
   "outputs": [],
   "source": [
    "#in  \n",
    "p = 70\n",
    "a = 1.70\n",
    "#out (siempre empieza en 0)\n",
    "i = 0\n",
    "# ALGORITMO\n",
    "i = p / (a**2)\n",
    "# Resultado\n",
    "print('El IMC resultante es', i)"
   ]
  },
  {
   "cell_type": "markdown",
   "id": "8a07d160",
   "metadata": {},
   "source": [
    "#### Calcular los intereses generados por un capital en un periodo de tiempo (años)"
   ]
  },
  {
   "cell_type": "code",
   "execution_count": null,
   "id": "f2068168",
   "metadata": {},
   "outputs": [],
   "source": [
    "#in  \n",
    "capitalInicial = 100000\n",
    "interes = 0.02\n",
    "tiempo = 10\n",
    "#out (siempre empieza en 0)\n",
    "cf = 0\n",
    "# ALGORITMO\n",
    "cf = capitalInicial * ((1 + interes)** tiempo)\n",
    "# Resultado\n",
    "print('El capital final será de', round(cf, 2),'euros')\n",
    "print('Has generado', round((cf - capitalInicial), 2), 'euros de intereses')"
   ]
  },
  {
   "cell_type": "markdown",
   "id": "f560c0e4",
   "metadata": {},
   "source": [
    "#### Introducidos 3 números por teclado nos dirá cuál es el mayor."
   ]
  },
  {
   "cell_type": "code",
   "execution_count": null,
   "id": "75a17bf7",
   "metadata": {},
   "outputs": [],
   "source": [
    "numero1 = int(input('Introduce un número: '))\n",
    "numero2 = int(input('Introduce otro número: '))\n",
    "numero3 = int(input('Introduce otro número: '))\n",
    "maximo = max(numero1, numero2, numero3)\n",
    "print(maximo)"
   ]
  }
 ],
 "metadata": {
  "kernelspec": {
   "display_name": "Python 3 (ipykernel)",
   "language": "python",
   "name": "python3"
  },
  "language_info": {
   "codemirror_mode": {
    "name": "ipython",
    "version": 3
   },
   "file_extension": ".py",
   "mimetype": "text/x-python",
   "name": "python",
   "nbconvert_exporter": "python",
   "pygments_lexer": "ipython3",
   "version": "3.9.13"
  }
 },
 "nbformat": 4,
 "nbformat_minor": 5
}
