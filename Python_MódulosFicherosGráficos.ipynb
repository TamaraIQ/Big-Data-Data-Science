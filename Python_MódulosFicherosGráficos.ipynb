{
 "cells": [
  {
   "cell_type": "markdown",
   "id": "7a9f22f4",
   "metadata": {},
   "source": [
    "#### 1. Utiliza un módulo que podamos usar para obtener aleatoriamente notas entre 1 y 10"
   ]
  },
  {
   "cell_type": "code",
   "execution_count": 16,
   "id": "5c90b1cc",
   "metadata": {},
   "outputs": [
    {
     "name": "stdout",
     "output_type": "stream",
     "text": [
      "10\n"
     ]
    }
   ],
   "source": [
    "import random                         #importamos módulo random\n",
    "\n",
    "numero = random.randint(1, 10)\n",
    "print(numero)"
   ]
  },
  {
   "cell_type": "markdown",
   "id": "a5be43f8",
   "metadata": {},
   "source": [
    "#### 2.  Utilizando el módulo anterior obtén 30 notas aleatorias y guárdalas en Excel"
   ]
  },
  {
   "cell_type": "code",
   "execution_count": 46,
   "id": "ebeb94c8",
   "metadata": {},
   "outputs": [
    {
     "name": "stdout",
     "output_type": "stream",
     "text": [
      "[2, 1, 10, 9, 6, 1, 9, 6, 2, 10, 4, 5, 5, 8, 1, 8, 5, 9, 3, 10, 7, 9, 8, 1, 6, 5, 6, 8, 8, 1]\n"
     ]
    }
   ],
   "source": [
    "import openpyxl\n",
    "import random\n",
    "ListaNumeros=[]\n",
    "for i in range(30):\n",
    "    ListaNumeros.append(random.randint(1,10))\n",
    "print(ListaNumeros)\n",
    "\n",
    "excel_document = openpyxl.load_workbook('C:\\\\PythonDocs\\\\Ejemplo_modulos.xlsx')\n",
    "Hoja = excel_document['Hoja1']#Selecciono la hoja de excel que deseo\n",
    "Hoja.append(ListaNumeros)\n",
    "\n",
    "excel_document.save('C:\\\\PythonDocs\\\\Ejemplo_modulos.xlsx')#Solo en este momento se modifica el fichero\n",
    "#EJECUTAR LA CONSULTA CON EL EXCEL CERRADO"
   ]
  },
  {
   "cell_type": "markdown",
   "id": "252c2c5f",
   "metadata": {},
   "source": [
    "#### 3. . Crea un grafico que muestre si hay mas aprobados o suspensos"
   ]
  },
  {
   "cell_type": "code",
   "execution_count": 47,
   "id": "4d29173f",
   "metadata": {},
   "outputs": [
    {
     "name": "stdout",
     "output_type": "stream",
     "text": [
      "Hay 18 aprobados y 12 suspensos\n"
     ]
    },
    {
     "data": {
      "image/png": "[encoded data removed]",
      "text/plain": [
       "<Figure size 640x480 with 1 Axes>"
      ]
     },
     "metadata": {},
     "output_type": "display_data"
    }
   ],
   "source": [
    "import openpyxl\n",
    "import matplotlib.pyplot as grafico\n",
    "import random\n",
    "\n",
    "excel_document = openpyxl.load_workbook('C:\\\\PythonDocs\\\\Ejemplo_modulos.xlsx')\n",
    "Hoja = excel_document['Hoja1']#Selecciono la hoja de excel que deseo\n",
    "Valores = Hoja['A1':'AD1']#rango que quiero\n",
    "\n",
    "#Los leo\n",
    "aprobados=0\n",
    "suspensos=0\n",
    "for fila in Valores:#recorro filas\n",
    "    for nota in fila:#recorro columna        \n",
    "        if (nota.value >= 5):\n",
    "            aprobados = aprobados + 1\n",
    "        else:\n",
    "            suspensos = suspensos + 1\n",
    "\n",
    "print('Hay '+str(aprobados)+' aprobados y '+str(suspensos)+ ' suspensos')#Para probar\n",
    "\n",
    "#grafico\n",
    "x=['aprobados','suspensos']\n",
    "y=[aprobados,suspensos]\n",
    "grafico.bar(x,y)\n",
    "grafico.show()"
   ]
  }
 ],
 "metadata": {
  "kernelspec": {
   "display_name": "Python 3 (ipykernel)",
   "language": "python",
   "name": "python3"
  },
  "language_info": {
   "codemirror_mode": {
    "name": "ipython",
    "version": 3
   },
   "file_extension": ".py",
   "mimetype": "text/x-python",
   "name": "python",
   "nbconvert_exporter": "python",
   "pygments_lexer": "ipython3",
   "version": "3.9.13"
  }
 },
 "nbformat": 4,
 "nbformat_minor": 5
}
