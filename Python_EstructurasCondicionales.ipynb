{
 "cells": [
  {
   "cell_type": "markdown",
   "id": "d39d988b",
   "metadata": {},
   "source": [
    "## ESTRUCTURAS CONDICIONALES"
   ]
  },
  {
   "cell_type": "code",
   "execution_count": null,
   "id": "94b3a2e4",
   "metadata": {},
   "outputs": [],
   "source": [
    "# Las condiciones de comparación siempre nos devuelven un booleano (sí/no)\n",
    "x = 3\n",
    "print(x == 3) # imprime False\n",
    "print(x != 3) # imprime True      #desigual\n",
    "print(x < 3) # imprime True\n",
    "print(x >= 3) # imprime False"
   ]
  },
  {
   "cell_type": "markdown",
   "id": "fd369a01",
   "metadata": {},
   "source": [
    "#### Imprimir 'Hola Mundo' si a es mayor a b"
   ]
  },
  {
   "cell_type": "code",
   "execution_count": null,
   "id": "1dee3c0c",
   "metadata": {},
   "outputs": [],
   "source": [
    "#in  \n",
    "a = 30\n",
    "b = 40\n",
    "#out (siempre empieza en 0)\n",
    "# ALGORITMO\n",
    "# Resultado\n",
    "if (a > b):\n",
    "    print('Hola mundo')\n",
    "else:\n",
    "    print('Error')"
   ]
  },
  {
   "cell_type": "markdown",
   "id": "bb3b8922",
   "metadata": {},
   "source": [
    "#### Determinar si alguien es mayor de edad o no"
   ]
  },
  {
   "cell_type": "code",
   "execution_count": null,
   "id": "25ab20d6",
   "metadata": {},
   "outputs": [],
   "source": [
    "edad = 16\n",
    "if(edad < 18):\n",
    "    print('Menor de edad, no pasa')\n",
    "else: \n",
    "    print('Mayor de edad, pasa')"
   ]
  },
  {
   "cell_type": "markdown",
   "id": "ab646a9f",
   "metadata": {},
   "source": [
    "#### Introducido un número por teclado, nos dirá si es positivo."
   ]
  },
  {
   "cell_type": "code",
   "execution_count": 89,
   "id": "ec7b4b0d",
   "metadata": {},
   "outputs": [
    {
     "name": "stdout",
     "output_type": "stream",
     "text": [
      "Introduce un número: 2\n",
      "Es positivo\n"
     ]
    }
   ],
   "source": [
    "numero = int(input('Introduce un número: '))\n",
    "if numero > 0: \n",
    "    print('Es positivo')\n",
    "else: \n",
    "    if numero == 0:\n",
    "        print('Es cero')\n",
    "    else:\n",
    "        print('Es negativo')"
   ]
  },
  {
   "cell_type": "code",
   "execution_count": null,
   "id": "214ada9f",
   "metadata": {},
   "outputs": [],
   "source": [
    "lista = []                          #lista vacía = False\n",
    "\n",
    "if lista:                         \n",
    "    print('Hay algo en la lista')\n",
    "else:\n",
    "    print('La lista está vacía')"
   ]
  },
  {
   "cell_type": "code",
   "execution_count": null,
   "id": "7bf0c0bd",
   "metadata": {},
   "outputs": [],
   "source": [
    "statement = False\n",
    "another_statement = True\n",
    "if statement is True:\n",
    "    # hacer algo\n",
    "    pass                                                 #pass es un lugar que te puedes dejar reservado para meter luego una solución (te indica que tienes que meter algo ahí)\n",
    "elif another_statement is True: # else if (si no)\n",
    "    # hacer otra cosa\n",
    "    pass\n",
    "else:\n",
    "    # hacer otra cosa\n",
    "    pass"
   ]
  },
  {
   "cell_type": "markdown",
   "id": "f89d5a96",
   "metadata": {},
   "source": [
    "#### Calculadora personalizada"
   ]
  },
  {
   "cell_type": "code",
   "execution_count": null,
   "id": "7ebff6de",
   "metadata": {},
   "outputs": [],
   "source": [
    "a = 2\n",
    "b = 3\n",
    "operacion = 4\n",
    "resultado = 0\n",
    "if(operacion == 1): #ponemos == porque no es una asignación de valor, solo es una condición\n",
    "    resultado = a + b\n",
    "    print(resultado)\n",
    "#ponemos elif porque no es la primera condición\n",
    "elif(operacion == 2):\n",
    "    resultado = a * b\n",
    "    print(resultado)\n",
    "elif(operacion == 3):\n",
    "    resultado = a - b\n",
    "    print(resultado)\n",
    "elif (operacion == 4):\n",
    "    resultado = a / b\n",
    "    print(resultado)"
   ]
  },
  {
   "cell_type": "markdown",
   "id": "4309e075",
   "metadata": {},
   "source": [
    "#### Calcular factura con IVA dependiendo del tipo de factura"
   ]
  },
  {
   "cell_type": "code",
   "execution_count": null,
   "id": "73852572",
   "metadata": {},
   "outputs": [],
   "source": [
    "tipoFactura  = 'Restaurante'\n",
    "facturaSINIVA = 200\n",
    "facturaCONIVA = 0\n",
    "if(tipoFactura == 'Restaurante'):\n",
    "    facturaCONIVA = facturaSINIVA * 1.1\n",
    "    print('El total con IVA de la factura es', round(facturaCONIVA,2), 'euros')\n",
    "else:\n",
    "    facturaCONIVA = facturaSINIVA * 1.21\n",
    "    print('El total con IVA de la factura es', round(facturaCONIVA,2), 'euros')"
   ]
  },
  {
   "cell_type": "markdown",
   "id": "51bd76a0",
   "metadata": {},
   "source": [
    "#### Determinar el precio de la tarifa anual dependiendo de su edad y estado laboral"
   ]
  },
  {
   "cell_type": "code",
   "execution_count": null,
   "id": "1c19d94f",
   "metadata": {},
   "outputs": [],
   "source": [
    "edad = 20\n",
    "trabaja = 1 #booleano: 1 trabaja, 0 no trabaja\n",
    "tarifaAnual = 0\n",
    "\n",
    "if(edad >= 18 and trabaja == 1):\n",
    "    print('Paga el 100%')\n",
    "elif(edad <18 and trabaja == 1):\n",
    "    print('Paga el 95%')\n",
    "elif(edad >=18 and trabaja == 0):\n",
    "    print('Paga el 75%')\n",
    "elif(edad < 18 and trabaja == 0):\n",
    "    print('Paga el 50%')"
   ]
  },
  {
   "cell_type": "markdown",
   "id": "93c302ef",
   "metadata": {},
   "source": [
    "#### Leer 2 números por teclado y mostrar el menú:\n",
    "1. Sumar\n",
    "2. Restar\n",
    "3. Multiplicar\n",
    "4. Dividir\n",
    "Después, leer por teclado un número entere 1 y 4. Según la opción elegida\n",
    "mostrar el resultado de la operación con los 2 números introducidos."
   ]
  },
  {
   "cell_type": "code",
   "execution_count": null,
   "id": "471132bf",
   "metadata": {},
   "outputs": [],
   "source": [
    "numero1 = int(input('Introduce un número: '))\n",
    "numero2 = int(input('Introduce otro número: '))\n",
    "operación = input('Selecciona qué operación quieres realizar: \\n1.Sumar \\n2.Restar \\n3.Multiplicar \\n4.Dividir: \\n')\n",
    "if operación == '1':\n",
    "    print(numero1 + numero2)\n",
    "else:\n",
    "    if operación == '2':\n",
    "        print(numero1 - numero2)\n",
    "    else:\n",
    "        if operación == '3':\n",
    "            print(numero1 * numero2)\n",
    "        else: \n",
    "            if operación == '4':\n",
    "                print(numero1 / numero2)\n",
    "            else: \n",
    "                print('Introduzca un número entre 1 y 4')"
   ]
  },
  {
   "cell_type": "markdown",
   "id": "ca71d5d8",
   "metadata": {},
   "source": [
    "#### Dada una nota numérica sin decimales entre 1 y 10 introducida por teclado mostrar un mensaje de texto indicando la nota según este baremo:\n",
    "1-4 Suspenso\n",
    "5-6 Bien\n",
    "7-8 Notable\n",
    "9-10 Sobresaliente"
   ]
  },
  {
   "cell_type": "code",
   "execution_count": null,
   "id": "3414307f",
   "metadata": {},
   "outputs": [],
   "source": [
    "nota = int(input('Introduce tu nota: '))\n",
    "if nota >= 1 and nota <=4:\n",
    "    print('Estás suspenso')\n",
    "else:\n",
    "    if nota <= 6:\n",
    "        print('Bien')\n",
    "    else: \n",
    "        if nota <= 8:\n",
    "            print('Tienes un notable')\n",
    "        else: \n",
    "            if nota <= 10:\n",
    "                print('Sobresaliente')\n",
    "            else: \n",
    "                print('Nota incorrecta')"
   ]
  },
  {
   "cell_type": "markdown",
   "id": "8c3a0679",
   "metadata": {},
   "source": [
    "#### Escribir un programa que pregunte al usuario si quiere una pizza vegetariana o no y en función de su respuesta le muestre un menú con los ingredientes disponibles para que elija."
   ]
  },
  {
   "cell_type": "code",
   "execution_count": null,
   "id": "4d6c70dc",
   "metadata": {},
   "outputs": [],
   "source": [
    "tipo_pizza = input('Bienvenido a la pizzería Bella Napolli. Elija qué tipo de pizza prefiere: ¿Vegetariana o No vegetariana?')\n",
    "print('Elija qué ingrediente extra desea, aparte del tomate y la mozzarella:')\n",
    "\n",
    "if(tipo_pizza == 'Vegetariana'):\n",
    "    ingrediente= input('¿Tofu o Pimiento? ')\n",
    "    if(ingrediente == 'Pimiento'):\n",
    "        print('Su pizza contendrá: Pimiento, tomate y mozzarella')\n",
    "    if(ingrediente == 'Tofu'):\n",
    "        print('Su pizza contendrá: Tofu, tomate y mozzarella')\n",
    "    \n",
    "if(tipo_pizza == 'No vegetariana'):\n",
    "    ingrediente = input('¿Peperoni, Jamón y Salmón? ')\n",
    "    if(ingrediente == 'Peperoni'):\n",
    "        print('Su pizza contendrá: Peperoni, tomate y mozzarella')\n",
    "    if (ingrediente == 'Jamón'):\n",
    "        print('Su pizza contendrá: Jamón, tomate y mozzarella')\n",
    "    if(ingrediente == 'Salmón'): \n",
    "        print('Su pizza contendrá: Salmón, tomate y mozzarella')"
   ]
  },
  {
   "cell_type": "markdown",
   "id": "bb804423",
   "metadata": {},
   "source": [
    "#### Escribir un programa que pregunte al usuario si quiere una pizza vegetariana o no y en función de su respuesta le muestre un menú con los ingredientes disponibles para que elija."
   ]
  },
  {
   "cell_type": "code",
   "execution_count": null,
   "id": "3c6b1019",
   "metadata": {},
   "outputs": [],
   "source": [
    "tipo_pizza = input('Bienvenido a la pizzería Bella Napolli. Elija qué tipo de pizza prefiere: ¿Vegetariana o No vegetariana?')\n",
    "print('Elija qué ingrediente extra desea, aparte del tomate y la mozzarella:')\n",
    "\n",
    "if(tipo_pizza == 'Vegetariana'):\n",
    "    ingrediente= input('¿Tofu o Pimiento?')\n",
    "    if(ingrediente == 'Pimiento'):\n",
    "        print('Su pizza contendrá: Pimiento, tomate y mozzarella')\n",
    "    else:\n",
    "        print('Su pizza contendrá: Tofu, tomate y mozzarella')\n",
    "    \n",
    "elif(tipo_pizza == 'No vegetariana'):\n",
    "    ingrediente = input('¿Peperoni, Jamón y Salmón?')\n",
    "    if(ingrediente == 'Peperoni'):\n",
    "        print('Su pizza contendrá: Peperoni, tomate y mozzarella')\n",
    "    elif (ingrediente == 'Jamón'):\n",
    "        print('Su pizza contendrá: Jamón, tomate y mozzarella')\n",
    "    else: \n",
    "        print('Su pizza contendrá: Salmón, tomate y mozzarella')"
   ]
  },
  {
   "cell_type": "markdown",
   "id": "1143f89c",
   "metadata": {},
   "source": [
    "#### Calculadora que se enciende y HASTA QUE no tecleamos ‘sal’ no se apaga.\n",
    "Funciona de la siguiente manera:\n",
    "Recogemos los datos A y B\n",
    "Si operación es 1→ calcula raíz cuadrada de la suma de A y B\n",
    "Si operación es 2 → calcula A/B.\n",
    "Si operación es 3 –> calcula (A*B)/2.5"
   ]
  },
  {
   "cell_type": "code",
   "execution_count": null,
   "id": "ee850ec0",
   "metadata": {},
   "outputs": [],
   "source": [
    "a = 2\n",
    "b = 4\n",
    "op = int(input('Elige un número del 1 al 3')) #el input solo saca str, por lo que luego no lo podemos utilizar como numero en la condicion, no lo reconoce, para eso usamos int()\n",
    "rdo = 0\n",
    "if(op == 1):\n",
    "    rdo = print((a + b)**0.5)\n",
    "elif (op == 2):\n",
    "    rdo = print(a/b)\n",
    "elif(op == 3):\n",
    "    rdo = print (a*b/2.5)\n",
    "    \n",
    "else:\n",
    "    rdo = print('No existe ese número')\n"
   ]
  },
  {
   "cell_type": "markdown",
   "id": "f1084554",
   "metadata": {},
   "source": [
    "#### Introduce el año actual y tu año de nacimiento. Muestra por pantalla tu edad"
   ]
  },
  {
   "cell_type": "code",
   "execution_count": 57,
   "id": "fe52a187",
   "metadata": {},
   "outputs": [
    {
     "name": "stdout",
     "output_type": "stream",
     "text": [
      "Introduce el año actual2022\n",
      "Introduce el año de tu nacimiento1998\n",
      "Tu edad es: 24 años\n"
     ]
    }
   ],
   "source": [
    "ActualYear = int(input('Introduce el año actual: '))\n",
    "BornYear = int(input('Introduce el año de tu nacimiento: '))\n",
    "if BornYear > ActualYear:\n",
    "    print('Esto es incorrecto')\n",
    "else:\n",
    "    edad = ActualYear - BornYear\n",
    "    print('Tu edad es: ' + str(edad) + ' años')"
   ]
  },
  {
   "cell_type": "markdown",
   "id": "90a07372",
   "metadata": {},
   "source": [
    "#### Insertar un valor por teclado por el cual preguntamos si es positivo o si esta entre -100 y -200. Muestra un mensaje diciendo si cumple o no las condiciones."
   ]
  },
  {
   "cell_type": "code",
   "execution_count": 67,
   "id": "64ded07a",
   "metadata": {},
   "outputs": [
    {
     "name": "stdout",
     "output_type": "stream",
     "text": [
      "Introduce un valor por teclado-10\n",
      "No cumple ninguna condición\n"
     ]
    }
   ],
   "source": [
    "numero = int(input('Introduce un valor por teclado'))\n",
    "if numero > 0:\n",
    "    print('Es positivo')\n",
    "else:\n",
    "    if numero <-100 and numero >-200:\n",
    "        print('Está entre -100 y -200')\n",
    "    else:\n",
    "        print('No cumple ninguna condición')"
   ]
  },
  {
   "cell_type": "markdown",
   "id": "55e11d3c",
   "metadata": {},
   "source": [
    "#### Exige introducir un valor entre -10 y -5. Una vez introducido muestra su valor en positivo"
   ]
  },
  {
   "cell_type": "code",
   "execution_count": 69,
   "id": "39cf4c97",
   "metadata": {},
   "outputs": [
    {
     "name": "stdout",
     "output_type": "stream",
     "text": [
      "Introduce un valor entre -5 y -10: 2\n",
      "El valor no está entre -5 y -10\n"
     ]
    }
   ],
   "source": [
    "valor = int(input('Introduce un valor entre -5 y -10: '))\n",
    "if valor <-5  and valor >-10:\n",
    "    vabsoluto = abs(valor)\n",
    "    print (str(vabsoluto))\n",
    "else:\n",
    "    print('El valor no está entre -5 y -10')"
   ]
  },
  {
   "cell_type": "markdown",
   "id": "515f1c74",
   "metadata": {},
   "source": [
    "#### Introduce un año y di si es un año bisiesto. “Matemáticamente podemos saber si un año es bisiesto si este es múltiplo de 4. Si además es múltiplo de 100 no será bisiesto (ten en cuenta que 100 es múltiplo de 4 y por tanto cualquier número que sea múltiplo de 100 también es múltiplo de 4) a no ser que sea múltiplo de 400, que sí será bisiesto."
   ]
  },
  {
   "cell_type": "code",
   "execution_count": null,
   "id": "eb8042d4",
   "metadata": {},
   "outputs": [],
   "source": [
    "# divisible entre 4, 100 y 400 -> bisiesto\n",
    "# divisible entre 4, no 100 -> bisiesto"
   ]
  },
  {
   "cell_type": "code",
   "execution_count": 79,
   "id": "f4612543",
   "metadata": {},
   "outputs": [
    {
     "name": "stdout",
     "output_type": "stream",
     "text": [
      "Introduce un año y te diré si es bisiesto: 2022\n",
      "No es bisiesto\n"
     ]
    }
   ],
   "source": [
    "year = int(input('Introduce un año y te diré si es bisiesto: '))\n",
    "\n",
    "if year % 4 == 0:                     # divisible entre 4\n",
    "    if year % 100 != 0:               # no divisible entre 100\n",
    "        print('Es bisiesto')\n",
    "    else:\n",
    "        if year % 400 == 0:           # divisible entre 100 y divisible entre 400\n",
    "            print('Es bisiesto')\n",
    "        else: \n",
    "            print('No es bisiesto')\n",
    "else:            \n",
    "    print('No es bisiesto')"
   ]
  },
  {
   "cell_type": "markdown",
   "id": "f2187a1e",
   "metadata": {},
   "source": [
    "#### Determinar si una cadena de texto dada es un palíndromo"
   ]
  },
  {
   "cell_type": "code",
   "execution_count": null,
   "id": "5ff5a126",
   "metadata": {},
   "outputs": [],
   "source": [
    "sentence = 'Ella te da detalle'\n",
    "\n",
    "# 1. Eliminamos espacios en blanco\n",
    "#sentence = sentence.replace(\" \", \"\")\n",
    "sentence = sentence.split()\n",
    "sentence = \"\".join(sentence)\n",
    "print(sentence)\n",
    "\n",
    "# 2. Ponemos todo en mismo formato (minúsculas)\n",
    "if sentence.lower() == sentence[::-1].lower():\n",
    "  print(\"Es palíndromo\")\n",
    "else:\n",
    "  print (\"No palíndromo\")"
   ]
  }
 ],
 "metadata": {
  "kernelspec": {
   "display_name": "Python 3 (ipykernel)",
   "language": "python",
   "name": "python3"
  },
  "language_info": {
   "codemirror_mode": {
    "name": "ipython",
    "version": 3
   },
   "file_extension": ".py",
   "mimetype": "text/x-python",
   "name": "python",
   "nbconvert_exporter": "python",
   "pygments_lexer": "ipython3",
   "version": "3.9.13"
  }
 },
 "nbformat": 4,
 "nbformat_minor": 5
}
